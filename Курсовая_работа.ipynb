{
  "nbformat": 4,
  "nbformat_minor": 0,
  "metadata": {
    "colab": {
      "name": "Курсовая работа.ipynb",
      "version": "0.3.2",
      "provenance": [],
      "collapsed_sections": [],
      "toc_visible": true,
      "include_colab_link": true
    },
    "kernelspec": {
      "name": "python3",
      "display_name": "Python 3"
    }
  },
  "cells": [
    {
      "cell_type": "markdown",
      "metadata": {
        "id": "view-in-github",
        "colab_type": "text"
      },
      "source": [
        "<a href=\"https://colab.research.google.com/github/angelishhha/BKIT_Lab1/blob/master/%D0%9A%D1%83%D1%80%D1%81%D0%BE%D0%B2%D0%B0%D1%8F_%D1%80%D0%B0%D0%B1%D0%BE%D1%82%D0%B0.ipynb\" target=\"_parent\"><img src=\"https://colab.research.google.com/assets/colab-badge.svg\" alt=\"Open In Colab\"/></a>"
      ]
    },
    {
      "cell_type": "code",
      "metadata": {
        "id": "RK3USP_fiQfj",
        "colab_type": "code",
        "colab": {}
      },
      "source": [
        "\n",
        "import pandas as pd\n",
        "import numpy as np\n",
        "import scipy\n",
        "\n",
        "from sklearn.linear_model import LinearRegression\n",
        "from sklearn.ensemble import RandomForestRegressor\n",
        "import lightgbm \n",
        "from sklearn.model_selection import GridSearchCV\n",
        "\n",
        "import seaborn as sns\n",
        "import matplotlib.pyplot as plt\n",
        "import datetime as dt\n",
        "from math import sqrt\n",
        "from scipy.spatial import distance\n",
        "\n",
        "%matplotlib inline\n",
        "\n",
        "import warnings\n",
        "warnings.filterwarnings('ignore')"
      ],
      "execution_count": 0,
      "outputs": []
    },
    {
      "cell_type": "code",
      "metadata": {
        "id": "qRzn0Ds_omN_",
        "colab_type": "code",
        "colab": {}
      },
      "source": [
        "train = pd.read_csv('train.csv')\n",
        "test = pd.read_csv('test.csv')\n"
      ],
      "execution_count": 0,
      "outputs": []
    },
    {
      "cell_type": "code",
      "metadata": {
        "id": "Z_BuU7B-pxSr",
        "colab_type": "code",
        "outputId": "e9103793-453b-4cec-9f0c-01f2a1085678",
        "colab": {
          "base_uri": "https://localhost:8080/",
          "height": 35
        }
      },
      "source": [
        "train.shape"
      ],
      "execution_count": 3,
      "outputs": [
        {
          "output_type": "execute_result",
          "data": {
            "text/plain": [
              "(891, 12)"
            ]
          },
          "metadata": {
            "tags": []
          },
          "execution_count": 3
        }
      ]
    },
    {
      "cell_type": "code",
      "metadata": {
        "id": "n3GdgvUgIGS9",
        "colab_type": "code",
        "outputId": "0f5f66c9-3a4d-4436-eb0e-4cab29e23d35",
        "colab": {
          "base_uri": "https://localhost:8080/",
          "height": 35
        }
      },
      "source": [
        "test.shape\n"
      ],
      "execution_count": 0,
      "outputs": [
        {
          "output_type": "execute_result",
          "data": {
            "text/plain": [
              "(418, 11)"
            ]
          },
          "metadata": {
            "tags": []
          },
          "execution_count": 4
        }
      ]
    },
    {
      "cell_type": "code",
      "metadata": {
        "id": "anRR9Ue9jYic",
        "colab_type": "code",
        "outputId": "70ef43c2-ba35-4b22-e0e5-6a9441260d7a",
        "colab": {
          "base_uri": "https://localhost:8080/",
          "height": 1127
        }
      },
      "source": [
        "train.head                                   "
      ],
      "execution_count": 4,
      "outputs": [
        {
          "output_type": "execute_result",
          "data": {
            "text/plain": [
              "<bound method NDFrame.head of      PassengerId  Survived  Pclass  ...      Fare        Cabin  Embarked\n",
              "0              1         0       3  ...    7.2500          NaN         S\n",
              "1              2         1       1  ...   71.2833          C85         C\n",
              "2              3         1       3  ...    7.9250          NaN         S\n",
              "3              4         1       1  ...   53.1000         C123         S\n",
              "4              5         0       3  ...    8.0500          NaN         S\n",
              "5              6         0       3  ...    8.4583          NaN         Q\n",
              "6              7         0       1  ...   51.8625          E46         S\n",
              "7              8         0       3  ...   21.0750          NaN         S\n",
              "8              9         1       3  ...   11.1333          NaN         S\n",
              "9             10         1       2  ...   30.0708          NaN         C\n",
              "10            11         1       3  ...   16.7000           G6         S\n",
              "11            12         1       1  ...   26.5500         C103         S\n",
              "12            13         0       3  ...    8.0500          NaN         S\n",
              "13            14         0       3  ...   31.2750          NaN         S\n",
              "14            15         0       3  ...    7.8542          NaN         S\n",
              "15            16         1       2  ...   16.0000          NaN         S\n",
              "16            17         0       3  ...   29.1250          NaN         Q\n",
              "17            18         1       2  ...   13.0000          NaN         S\n",
              "18            19         0       3  ...   18.0000          NaN         S\n",
              "19            20         1       3  ...    7.2250          NaN         C\n",
              "20            21         0       2  ...   26.0000          NaN         S\n",
              "21            22         1       2  ...   13.0000          D56         S\n",
              "22            23         1       3  ...    8.0292          NaN         Q\n",
              "23            24         1       1  ...   35.5000           A6         S\n",
              "24            25         0       3  ...   21.0750          NaN         S\n",
              "25            26         1       3  ...   31.3875          NaN         S\n",
              "26            27         0       3  ...    7.2250          NaN         C\n",
              "27            28         0       1  ...  263.0000  C23 C25 C27         S\n",
              "28            29         1       3  ...    7.8792          NaN         Q\n",
              "29            30         0       3  ...    7.8958          NaN         S\n",
              "..           ...       ...     ...  ...       ...          ...       ...\n",
              "861          862         0       2  ...   11.5000          NaN         S\n",
              "862          863         1       1  ...   25.9292          D17         S\n",
              "863          864         0       3  ...   69.5500          NaN         S\n",
              "864          865         0       2  ...   13.0000          NaN         S\n",
              "865          866         1       2  ...   13.0000          NaN         S\n",
              "866          867         1       2  ...   13.8583          NaN         C\n",
              "867          868         0       1  ...   50.4958          A24         S\n",
              "868          869         0       3  ...    9.5000          NaN         S\n",
              "869          870         1       3  ...   11.1333          NaN         S\n",
              "870          871         0       3  ...    7.8958          NaN         S\n",
              "871          872         1       1  ...   52.5542          D35         S\n",
              "872          873         0       1  ...    5.0000  B51 B53 B55         S\n",
              "873          874         0       3  ...    9.0000          NaN         S\n",
              "874          875         1       2  ...   24.0000          NaN         C\n",
              "875          876         1       3  ...    7.2250          NaN         C\n",
              "876          877         0       3  ...    9.8458          NaN         S\n",
              "877          878         0       3  ...    7.8958          NaN         S\n",
              "878          879         0       3  ...    7.8958          NaN         S\n",
              "879          880         1       1  ...   83.1583          C50         C\n",
              "880          881         1       2  ...   26.0000          NaN         S\n",
              "881          882         0       3  ...    7.8958          NaN         S\n",
              "882          883         0       3  ...   10.5167          NaN         S\n",
              "883          884         0       2  ...   10.5000          NaN         S\n",
              "884          885         0       3  ...    7.0500          NaN         S\n",
              "885          886         0       3  ...   29.1250          NaN         Q\n",
              "886          887         0       2  ...   13.0000          NaN         S\n",
              "887          888         1       1  ...   30.0000          B42         S\n",
              "888          889         0       3  ...   23.4500          NaN         S\n",
              "889          890         1       1  ...   30.0000         C148         C\n",
              "890          891         0       3  ...    7.7500          NaN         Q\n",
              "\n",
              "[891 rows x 12 columns]>"
            ]
          },
          "metadata": {
            "tags": []
          },
          "execution_count": 4
        }
      ]
    },
    {
      "cell_type": "code",
      "metadata": {
        "id": "n9u9YYjTjtN7",
        "colab_type": "code",
        "outputId": "aca0d827-729f-4f6c-8af3-0fbdedba1f64",
        "colab": {
          "base_uri": "https://localhost:8080/",
          "height": 1127
        }
      },
      "source": [
        "test.head"
      ],
      "execution_count": 0,
      "outputs": [
        {
          "output_type": "execute_result",
          "data": {
            "text/plain": [
              "<bound method NDFrame.head of      PassengerId  Pclass  ...            Cabin Embarked\n",
              "0            892       3  ...              NaN        Q\n",
              "1            893       3  ...              NaN        S\n",
              "2            894       2  ...              NaN        Q\n",
              "3            895       3  ...              NaN        S\n",
              "4            896       3  ...              NaN        S\n",
              "5            897       3  ...              NaN        S\n",
              "6            898       3  ...              NaN        Q\n",
              "7            899       2  ...              NaN        S\n",
              "8            900       3  ...              NaN        C\n",
              "9            901       3  ...              NaN        S\n",
              "10           902       3  ...              NaN        S\n",
              "11           903       1  ...              NaN        S\n",
              "12           904       1  ...              B45        S\n",
              "13           905       2  ...              NaN        S\n",
              "14           906       1  ...              E31        S\n",
              "15           907       2  ...              NaN        C\n",
              "16           908       2  ...              NaN        Q\n",
              "17           909       3  ...              NaN        C\n",
              "18           910       3  ...              NaN        S\n",
              "19           911       3  ...              NaN        C\n",
              "20           912       1  ...              NaN        C\n",
              "21           913       3  ...              NaN        S\n",
              "22           914       1  ...              NaN        S\n",
              "23           915       1  ...              NaN        C\n",
              "24           916       1  ...  B57 B59 B63 B66        C\n",
              "25           917       3  ...              NaN        S\n",
              "26           918       1  ...              B36        C\n",
              "27           919       3  ...              NaN        C\n",
              "28           920       1  ...              A21        S\n",
              "29           921       3  ...              NaN        C\n",
              "..           ...     ...  ...              ...      ...\n",
              "388         1280       3  ...              NaN        Q\n",
              "389         1281       3  ...              NaN        S\n",
              "390         1282       1  ...              B24        S\n",
              "391         1283       1  ...              D28        S\n",
              "392         1284       3  ...              NaN        S\n",
              "393         1285       2  ...              NaN        S\n",
              "394         1286       3  ...              NaN        S\n",
              "395         1287       1  ...              C31        S\n",
              "396         1288       3  ...              NaN        Q\n",
              "397         1289       1  ...              B41        C\n",
              "398         1290       3  ...              NaN        S\n",
              "399         1291       3  ...              NaN        Q\n",
              "400         1292       1  ...               C7        S\n",
              "401         1293       2  ...              NaN        S\n",
              "402         1294       1  ...              NaN        C\n",
              "403         1295       1  ...              NaN        S\n",
              "404         1296       1  ...              D40        C\n",
              "405         1297       2  ...              D38        C\n",
              "406         1298       2  ...              NaN        S\n",
              "407         1299       1  ...              C80        C\n",
              "408         1300       3  ...              NaN        Q\n",
              "409         1301       3  ...              NaN        S\n",
              "410         1302       3  ...              NaN        Q\n",
              "411         1303       1  ...              C78        Q\n",
              "412         1304       3  ...              NaN        S\n",
              "413         1305       3  ...              NaN        S\n",
              "414         1306       1  ...             C105        C\n",
              "415         1307       3  ...              NaN        S\n",
              "416         1308       3  ...              NaN        S\n",
              "417         1309       3  ...              NaN        C\n",
              "\n",
              "[418 rows x 11 columns]>"
            ]
          },
          "metadata": {
            "tags": []
          },
          "execution_count": 6
        }
      ]
    },
    {
      "cell_type": "markdown",
      "metadata": {
        "id": "rYbyLMY-E9v0",
        "colab_type": "text"
      },
      "source": [
        "#Анализ данных\n"
      ]
    },
    {
      "cell_type": "code",
      "metadata": {
        "id": "Dqu_T_mfjwWv",
        "colab_type": "code",
        "outputId": "62976b57-773b-4993-caf5-f55716d899ca",
        "colab": {
          "base_uri": "https://localhost:8080/",
          "height": 69
        }
      },
      "source": [
        "print(train.columns)"
      ],
      "execution_count": 5,
      "outputs": [
        {
          "output_type": "stream",
          "text": [
            "Index(['PassengerId', 'Survived', 'Pclass', 'Name', 'Sex', 'Age', 'SibSp',\n",
            "       'Parch', 'Ticket', 'Fare', 'Cabin', 'Embarked'],\n",
            "      dtype='object')\n"
          ],
          "name": "stdout"
        }
      ]
    },
    {
      "cell_type": "code",
      "metadata": {
        "id": "wEXxbx8D3SQ0",
        "colab_type": "code",
        "outputId": "218e0f97-8050-4be2-8c05-e930d6e5d0e1",
        "colab": {
          "base_uri": "https://localhost:8080/",
          "height": 341
        }
      },
      "source": [
        "train.sample(5)"
      ],
      "execution_count": 6,
      "outputs": [
        {
          "output_type": "execute_result",
          "data": {
            "text/html": [
              "<div>\n",
              "<style scoped>\n",
              "    .dataframe tbody tr th:only-of-type {\n",
              "        vertical-align: middle;\n",
              "    }\n",
              "\n",
              "    .dataframe tbody tr th {\n",
              "        vertical-align: top;\n",
              "    }\n",
              "\n",
              "    .dataframe thead th {\n",
              "        text-align: right;\n",
              "    }\n",
              "</style>\n",
              "<table border=\"1\" class=\"dataframe\">\n",
              "  <thead>\n",
              "    <tr style=\"text-align: right;\">\n",
              "      <th></th>\n",
              "      <th>PassengerId</th>\n",
              "      <th>Survived</th>\n",
              "      <th>Pclass</th>\n",
              "      <th>Name</th>\n",
              "      <th>Sex</th>\n",
              "      <th>Age</th>\n",
              "      <th>SibSp</th>\n",
              "      <th>Parch</th>\n",
              "      <th>Ticket</th>\n",
              "      <th>Fare</th>\n",
              "      <th>Cabin</th>\n",
              "      <th>Embarked</th>\n",
              "    </tr>\n",
              "  </thead>\n",
              "  <tbody>\n",
              "    <tr>\n",
              "      <th>795</th>\n",
              "      <td>796</td>\n",
              "      <td>0</td>\n",
              "      <td>2</td>\n",
              "      <td>Otter, Mr. Richard</td>\n",
              "      <td>male</td>\n",
              "      <td>39.0</td>\n",
              "      <td>0</td>\n",
              "      <td>0</td>\n",
              "      <td>28213</td>\n",
              "      <td>13.000</td>\n",
              "      <td>NaN</td>\n",
              "      <td>S</td>\n",
              "    </tr>\n",
              "    <tr>\n",
              "      <th>508</th>\n",
              "      <td>509</td>\n",
              "      <td>0</td>\n",
              "      <td>3</td>\n",
              "      <td>Olsen, Mr. Henry Margido</td>\n",
              "      <td>male</td>\n",
              "      <td>28.0</td>\n",
              "      <td>0</td>\n",
              "      <td>0</td>\n",
              "      <td>C 4001</td>\n",
              "      <td>22.525</td>\n",
              "      <td>NaN</td>\n",
              "      <td>S</td>\n",
              "    </tr>\n",
              "    <tr>\n",
              "      <th>528</th>\n",
              "      <td>529</td>\n",
              "      <td>0</td>\n",
              "      <td>3</td>\n",
              "      <td>Salonen, Mr. Johan Werner</td>\n",
              "      <td>male</td>\n",
              "      <td>39.0</td>\n",
              "      <td>0</td>\n",
              "      <td>0</td>\n",
              "      <td>3101296</td>\n",
              "      <td>7.925</td>\n",
              "      <td>NaN</td>\n",
              "      <td>S</td>\n",
              "    </tr>\n",
              "    <tr>\n",
              "      <th>751</th>\n",
              "      <td>752</td>\n",
              "      <td>1</td>\n",
              "      <td>3</td>\n",
              "      <td>Moor, Master. Meier</td>\n",
              "      <td>male</td>\n",
              "      <td>6.0</td>\n",
              "      <td>0</td>\n",
              "      <td>1</td>\n",
              "      <td>392096</td>\n",
              "      <td>12.475</td>\n",
              "      <td>E121</td>\n",
              "      <td>S</td>\n",
              "    </tr>\n",
              "    <tr>\n",
              "      <th>86</th>\n",
              "      <td>87</td>\n",
              "      <td>0</td>\n",
              "      <td>3</td>\n",
              "      <td>Ford, Mr. William Neal</td>\n",
              "      <td>male</td>\n",
              "      <td>16.0</td>\n",
              "      <td>1</td>\n",
              "      <td>3</td>\n",
              "      <td>W./C. 6608</td>\n",
              "      <td>34.375</td>\n",
              "      <td>NaN</td>\n",
              "      <td>S</td>\n",
              "    </tr>\n",
              "  </tbody>\n",
              "</table>\n",
              "</div>"
            ],
            "text/plain": [
              "     PassengerId  Survived  Pclass  ...    Fare Cabin  Embarked\n",
              "795          796         0       2  ...  13.000   NaN         S\n",
              "508          509         0       3  ...  22.525   NaN         S\n",
              "528          529         0       3  ...   7.925   NaN         S\n",
              "751          752         1       3  ...  12.475  E121         S\n",
              "86            87         0       3  ...  34.375   NaN         S\n",
              "\n",
              "[5 rows x 12 columns]"
            ]
          },
          "metadata": {
            "tags": []
          },
          "execution_count": 6
        }
      ]
    },
    {
      "cell_type": "code",
      "metadata": {
        "id": "h61IVRtm3bpo",
        "colab_type": "code",
        "outputId": "33b289a5-b644-4e56-eb16-bd1654b5f7d1",
        "colab": {
          "base_uri": "https://localhost:8080/",
          "height": 510
        }
      },
      "source": [
        "train.describe(include = \"all\")"
      ],
      "execution_count": 7,
      "outputs": [
        {
          "output_type": "execute_result",
          "data": {
            "text/html": [
              "<div>\n",
              "<style scoped>\n",
              "    .dataframe tbody tr th:only-of-type {\n",
              "        vertical-align: middle;\n",
              "    }\n",
              "\n",
              "    .dataframe tbody tr th {\n",
              "        vertical-align: top;\n",
              "    }\n",
              "\n",
              "    .dataframe thead th {\n",
              "        text-align: right;\n",
              "    }\n",
              "</style>\n",
              "<table border=\"1\" class=\"dataframe\">\n",
              "  <thead>\n",
              "    <tr style=\"text-align: right;\">\n",
              "      <th></th>\n",
              "      <th>PassengerId</th>\n",
              "      <th>Survived</th>\n",
              "      <th>Pclass</th>\n",
              "      <th>Name</th>\n",
              "      <th>Sex</th>\n",
              "      <th>Age</th>\n",
              "      <th>SibSp</th>\n",
              "      <th>Parch</th>\n",
              "      <th>Ticket</th>\n",
              "      <th>Fare</th>\n",
              "      <th>Cabin</th>\n",
              "      <th>Embarked</th>\n",
              "    </tr>\n",
              "  </thead>\n",
              "  <tbody>\n",
              "    <tr>\n",
              "      <th>count</th>\n",
              "      <td>891.000000</td>\n",
              "      <td>891.000000</td>\n",
              "      <td>891.000000</td>\n",
              "      <td>891</td>\n",
              "      <td>891</td>\n",
              "      <td>714.000000</td>\n",
              "      <td>891.000000</td>\n",
              "      <td>891.000000</td>\n",
              "      <td>891</td>\n",
              "      <td>891.000000</td>\n",
              "      <td>204</td>\n",
              "      <td>889</td>\n",
              "    </tr>\n",
              "    <tr>\n",
              "      <th>unique</th>\n",
              "      <td>NaN</td>\n",
              "      <td>NaN</td>\n",
              "      <td>NaN</td>\n",
              "      <td>891</td>\n",
              "      <td>2</td>\n",
              "      <td>NaN</td>\n",
              "      <td>NaN</td>\n",
              "      <td>NaN</td>\n",
              "      <td>681</td>\n",
              "      <td>NaN</td>\n",
              "      <td>147</td>\n",
              "      <td>3</td>\n",
              "    </tr>\n",
              "    <tr>\n",
              "      <th>top</th>\n",
              "      <td>NaN</td>\n",
              "      <td>NaN</td>\n",
              "      <td>NaN</td>\n",
              "      <td>Lobb, Mrs. William Arthur (Cordelia K Stanlick)</td>\n",
              "      <td>male</td>\n",
              "      <td>NaN</td>\n",
              "      <td>NaN</td>\n",
              "      <td>NaN</td>\n",
              "      <td>1601</td>\n",
              "      <td>NaN</td>\n",
              "      <td>B96 B98</td>\n",
              "      <td>S</td>\n",
              "    </tr>\n",
              "    <tr>\n",
              "      <th>freq</th>\n",
              "      <td>NaN</td>\n",
              "      <td>NaN</td>\n",
              "      <td>NaN</td>\n",
              "      <td>1</td>\n",
              "      <td>577</td>\n",
              "      <td>NaN</td>\n",
              "      <td>NaN</td>\n",
              "      <td>NaN</td>\n",
              "      <td>7</td>\n",
              "      <td>NaN</td>\n",
              "      <td>4</td>\n",
              "      <td>644</td>\n",
              "    </tr>\n",
              "    <tr>\n",
              "      <th>mean</th>\n",
              "      <td>446.000000</td>\n",
              "      <td>0.383838</td>\n",
              "      <td>2.308642</td>\n",
              "      <td>NaN</td>\n",
              "      <td>NaN</td>\n",
              "      <td>29.699118</td>\n",
              "      <td>0.523008</td>\n",
              "      <td>0.381594</td>\n",
              "      <td>NaN</td>\n",
              "      <td>32.204208</td>\n",
              "      <td>NaN</td>\n",
              "      <td>NaN</td>\n",
              "    </tr>\n",
              "    <tr>\n",
              "      <th>std</th>\n",
              "      <td>257.353842</td>\n",
              "      <td>0.486592</td>\n",
              "      <td>0.836071</td>\n",
              "      <td>NaN</td>\n",
              "      <td>NaN</td>\n",
              "      <td>14.526497</td>\n",
              "      <td>1.102743</td>\n",
              "      <td>0.806057</td>\n",
              "      <td>NaN</td>\n",
              "      <td>49.693429</td>\n",
              "      <td>NaN</td>\n",
              "      <td>NaN</td>\n",
              "    </tr>\n",
              "    <tr>\n",
              "      <th>min</th>\n",
              "      <td>1.000000</td>\n",
              "      <td>0.000000</td>\n",
              "      <td>1.000000</td>\n",
              "      <td>NaN</td>\n",
              "      <td>NaN</td>\n",
              "      <td>0.420000</td>\n",
              "      <td>0.000000</td>\n",
              "      <td>0.000000</td>\n",
              "      <td>NaN</td>\n",
              "      <td>0.000000</td>\n",
              "      <td>NaN</td>\n",
              "      <td>NaN</td>\n",
              "    </tr>\n",
              "    <tr>\n",
              "      <th>25%</th>\n",
              "      <td>223.500000</td>\n",
              "      <td>0.000000</td>\n",
              "      <td>2.000000</td>\n",
              "      <td>NaN</td>\n",
              "      <td>NaN</td>\n",
              "      <td>20.125000</td>\n",
              "      <td>0.000000</td>\n",
              "      <td>0.000000</td>\n",
              "      <td>NaN</td>\n",
              "      <td>7.910400</td>\n",
              "      <td>NaN</td>\n",
              "      <td>NaN</td>\n",
              "    </tr>\n",
              "    <tr>\n",
              "      <th>50%</th>\n",
              "      <td>446.000000</td>\n",
              "      <td>0.000000</td>\n",
              "      <td>3.000000</td>\n",
              "      <td>NaN</td>\n",
              "      <td>NaN</td>\n",
              "      <td>28.000000</td>\n",
              "      <td>0.000000</td>\n",
              "      <td>0.000000</td>\n",
              "      <td>NaN</td>\n",
              "      <td>14.454200</td>\n",
              "      <td>NaN</td>\n",
              "      <td>NaN</td>\n",
              "    </tr>\n",
              "    <tr>\n",
              "      <th>75%</th>\n",
              "      <td>668.500000</td>\n",
              "      <td>1.000000</td>\n",
              "      <td>3.000000</td>\n",
              "      <td>NaN</td>\n",
              "      <td>NaN</td>\n",
              "      <td>38.000000</td>\n",
              "      <td>1.000000</td>\n",
              "      <td>0.000000</td>\n",
              "      <td>NaN</td>\n",
              "      <td>31.000000</td>\n",
              "      <td>NaN</td>\n",
              "      <td>NaN</td>\n",
              "    </tr>\n",
              "    <tr>\n",
              "      <th>max</th>\n",
              "      <td>891.000000</td>\n",
              "      <td>1.000000</td>\n",
              "      <td>3.000000</td>\n",
              "      <td>NaN</td>\n",
              "      <td>NaN</td>\n",
              "      <td>80.000000</td>\n",
              "      <td>8.000000</td>\n",
              "      <td>6.000000</td>\n",
              "      <td>NaN</td>\n",
              "      <td>512.329200</td>\n",
              "      <td>NaN</td>\n",
              "      <td>NaN</td>\n",
              "    </tr>\n",
              "  </tbody>\n",
              "</table>\n",
              "</div>"
            ],
            "text/plain": [
              "        PassengerId    Survived      Pclass  ...        Fare    Cabin  Embarked\n",
              "count    891.000000  891.000000  891.000000  ...  891.000000      204       889\n",
              "unique          NaN         NaN         NaN  ...         NaN      147         3\n",
              "top             NaN         NaN         NaN  ...         NaN  B96 B98         S\n",
              "freq            NaN         NaN         NaN  ...         NaN        4       644\n",
              "mean     446.000000    0.383838    2.308642  ...   32.204208      NaN       NaN\n",
              "std      257.353842    0.486592    0.836071  ...   49.693429      NaN       NaN\n",
              "min        1.000000    0.000000    1.000000  ...    0.000000      NaN       NaN\n",
              "25%      223.500000    0.000000    2.000000  ...    7.910400      NaN       NaN\n",
              "50%      446.000000    0.000000    3.000000  ...   14.454200      NaN       NaN\n",
              "75%      668.500000    1.000000    3.000000  ...   31.000000      NaN       NaN\n",
              "max      891.000000    1.000000    3.000000  ...  512.329200      NaN       NaN\n",
              "\n",
              "[11 rows x 12 columns]"
            ]
          },
          "metadata": {
            "tags": []
          },
          "execution_count": 7
        }
      ]
    },
    {
      "cell_type": "code",
      "metadata": {
        "id": "h9bZdoP-3dMg",
        "colab_type": "code",
        "outputId": "835e3882-8f59-4755-a4ce-a120b493d935",
        "colab": {
          "base_uri": "https://localhost:8080/",
          "height": 243
        }
      },
      "source": [
        "print(pd.isnull(train).sum())"
      ],
      "execution_count": 8,
      "outputs": [
        {
          "output_type": "stream",
          "text": [
            "PassengerId      0\n",
            "Survived         0\n",
            "Pclass           0\n",
            "Name             0\n",
            "Sex              0\n",
            "Age            177\n",
            "SibSp            0\n",
            "Parch            0\n",
            "Ticket           0\n",
            "Fare             0\n",
            "Cabin          687\n",
            "Embarked         2\n",
            "dtype: int64\n"
          ],
          "name": "stdout"
        }
      ]
    },
    {
      "cell_type": "markdown",
      "metadata": {
        "id": "-1vWFFIHGCoD",
        "colab_type": "text"
      },
      "source": [
        "# Визуализация данных\n"
      ]
    },
    {
      "cell_type": "code",
      "metadata": {
        "id": "34h2UxfuGVzU",
        "colab_type": "code",
        "colab": {}
      },
      "source": [
        "Выживание на основе пола"
      ],
      "execution_count": 0,
      "outputs": []
    },
    {
      "cell_type": "code",
      "metadata": {
        "id": "iLWzOmVC3gCW",
        "colab_type": "code",
        "outputId": "05e494b9-5475-4ca9-8773-8adb4e759dd3",
        "colab": {
          "base_uri": "https://localhost:8080/",
          "height": 318
        }
      },
      "source": [
        "sns.barplot(x=\"Sex\", y=\"Survived\", data=train)\n",
        "\n",
        "print(\"Percentage of females who survived:\", train[\"Survived\"][train[\"Sex\"] == 'female'].value_counts(normalize = True)[1]*100)\n",
        "\n",
        "print(\"Percentage of males who survived:\", train[\"Survived\"][train[\"Sex\"] == 'male'].value_counts(normalize = True)[1]*100)"
      ],
      "execution_count": 9,
      "outputs": [
        {
          "output_type": "stream",
          "text": [
            "Percentage of females who survived: 74.20382165605095\n",
            "Percentage of males who survived: 18.890814558058924\n"
          ],
          "name": "stdout"
        },
        {
          "output_type": "display_data",
          "data": {
            "image/png": "[encoded data removed]",
            "text/plain": [
              "<Figure size 432x288 with 1 Axes>"
            ]
          },
          "metadata": {
            "tags": []
          }
        }
      ]
    },
    {
      "cell_type": "code",
      "metadata": {
        "id": "4MhpI9GwGZJt",
        "colab_type": "code",
        "colab": {}
      },
      "source": [
        "Выживание на основе класса"
      ],
      "execution_count": 0,
      "outputs": []
    },
    {
      "cell_type": "code",
      "metadata": {
        "id": "VZA2CPyM3kHn",
        "colab_type": "code",
        "outputId": "7b9e663f-4a66-4e46-b36d-8ba028fac1e0",
        "colab": {
          "base_uri": "https://localhost:8080/",
          "height": 335
        }
      },
      "source": [
        "sns.barplot(x=\"Pclass\", y=\"Survived\", data=train)\n",
        "\n",
        "print(\"Percentage of Pclass = 1 who survived:\", train[\"Survived\"][train[\"Pclass\"] == 1].value_counts(normalize = True)[1]*100)\n",
        "\n",
        "print(\"Percentage of Pclass = 2 who survived:\", train[\"Survived\"][train[\"Pclass\"] == 2].value_counts(normalize = True)[1]*100)\n",
        "\n",
        "print(\"Percentage of Pclass = 3 who survived:\", train[\"Survived\"][train[\"Pclass\"] == 3].value_counts(normalize = True)[1]*100)"
      ],
      "execution_count": 10,
      "outputs": [
        {
          "output_type": "stream",
          "text": [
            "Percentage of Pclass = 1 who survived: 62.96296296296296\n",
            "Percentage of Pclass = 2 who survived: 47.28260869565217\n",
            "Percentage of Pclass = 3 who survived: 24.236252545824847\n"
          ],
          "name": "stdout"
        },
        {
          "output_type": "display_data",
          "data": {
            "image/png": "[encoded data removed]",
            "text/plain": [
              "<Figure size 432x288 with 1 Axes>"
            ]
          },
          "metadata": {
            "tags": []
          }
        }
      ]
    },
    {
      "cell_type": "markdown",
      "metadata": {
        "id": "f0pe8wpTI1Oq",
        "colab_type": "text"
      },
      "source": [
        "Выживание на основе наличия родственников на корабле"
      ]
    },
    {
      "cell_type": "code",
      "metadata": {
        "id": "pCmLa4Yj3slo",
        "colab_type": "code",
        "outputId": "fbe7f05b-fdb3-4f1a-de67-463ffc3be502",
        "colab": {
          "base_uri": "https://localhost:8080/",
          "height": 335
        }
      },
      "source": [
        "sns.barplot(x=\"SibSp\", y=\"Survived\", data=train)\n",
        "\n",
        "print(\"Percentage of SibSp = 0 who survived:\", train[\"Survived\"][train[\"SibSp\"] == 0].value_counts(normalize = True)[1]*100)\n",
        "\n",
        "print(\"Percentage of SibSp = 1 who survived:\", train[\"Survived\"][train[\"SibSp\"] == 1].value_counts(normalize = True)[1]*100)\n",
        "\n",
        "print(\"Percentage of SibSp = 2 who survived:\", train[\"Survived\"][train[\"SibSp\"] == 2].value_counts(normalize = True)[1]*100)"
      ],
      "execution_count": 11,
      "outputs": [
        {
          "output_type": "stream",
          "text": [
            "Percentage of SibSp = 0 who survived: 34.53947368421053\n",
            "Percentage of SibSp = 1 who survived: 53.588516746411486\n",
            "Percentage of SibSp = 2 who survived: 46.42857142857143\n"
          ],
          "name": "stdout"
        },
        {
          "output_type": "display_data",
          "data": {
            "image/png": "[encoded data removed]",
            "text/plain": [
              "<Figure size 432x288 with 1 Axes>"
            ]
          },
          "metadata": {
            "tags": []
          }
        }
      ]
    },
    {
      "cell_type": "markdown",
      "metadata": {
        "id": "wdD7hFs5I8xr",
        "colab_type": "text"
      },
      "source": [
        "ВЫживание на основе наличия детей на борту"
      ]
    },
    {
      "cell_type": "code",
      "metadata": {
        "id": "C4cCvk4o3vwb",
        "colab_type": "code",
        "outputId": "165271f4-b52b-4939-83c4-55765ddf8c01",
        "colab": {
          "base_uri": "https://localhost:8080/",
          "height": 283
        }
      },
      "source": [
        "sns.barplot(x=\"Parch\", y=\"Survived\", data=train)\n",
        "plt.show()"
      ],
      "execution_count": 12,
      "outputs": [
        {
          "output_type": "display_data",
          "data": {
            "image/png": "[encoded data removed]",
            "text/plain": [
              "<Figure size 432x288 with 1 Axes>"
            ]
          },
          "metadata": {
            "tags": []
          }
        }
      ]
    },
    {
      "cell_type": "markdown",
      "metadata": {
        "id": "7tZp46kmJWD4",
        "colab_type": "text"
      },
      "source": [
        "Выживание на основе возраста "
      ]
    },
    {
      "cell_type": "code",
      "metadata": {
        "id": "z6hP8yt23v2X",
        "colab_type": "code",
        "outputId": "17a47d54-d076-4ff1-f355-5c052e8fc172",
        "colab": {
          "base_uri": "https://localhost:8080/",
          "height": 283
        }
      },
      "source": [
        "train[\"Age\"] = train[\"Age\"].fillna(-0.5)\n",
        "test[\"Age\"] = test[\"Age\"].fillna(-0.5)\n",
        "bins = [-1, 0, 5, 12, 18, 24, 35, 60, np.inf]\n",
        "labels = ['Unknown', 'Baby', 'Child', 'Teenager', 'Student', 'Young Adult', 'Adult', 'Senior']\n",
        "train['AgeGroup'] = pd.cut(train[\"Age\"], bins, labels = labels)\n",
        "test['AgeGroup'] = pd.cut(test[\"Age\"], bins, labels = labels)\n",
        "\n",
        "sns.barplot(x=\"AgeGroup\", y=\"Survived\", data=train)\n",
        "plt.show()"
      ],
      "execution_count": 13,
      "outputs": [
        {
          "output_type": "display_data",
          "data": {
            "image/png": "[encoded data removed]",
            "text/plain": [
              "<Figure size 432x288 with 1 Axes>"
            ]
          },
          "metadata": {
            "tags": []
          }
        }
      ]
    },
    {
      "cell_type": "markdown",
      "metadata": {
        "id": "g1K_m0WjJenH",
        "colab_type": "text"
      },
      "source": [
        "ВЫживание на основе наличия кабины\n"
      ]
    },
    {
      "cell_type": "code",
      "metadata": {
        "id": "rA87makN32YG",
        "colab_type": "code",
        "outputId": "03f3268e-f432-4332-fa3e-824861c4882d",
        "colab": {
          "base_uri": "https://localhost:8080/",
          "height": 318
        }
      },
      "source": [
        "train[\"CabinBool\"] = (train[\"Cabin\"].notnull().astype('int'))\n",
        "test[\"CabinBool\"] = (test[\"Cabin\"].notnull().astype('int'))\n",
        "\n",
        "print(\"Percentage of CabinBool = 1 who survived:\", train[\"Survived\"][train[\"CabinBool\"] == 1].value_counts(normalize = True)[1]*100)\n",
        "\n",
        "print(\"Percentage of CabinBool = 0 who survived:\", train[\"Survived\"][train[\"CabinBool\"] == 0].value_counts(normalize = True)[1]*100)\n",
        "sns.barplot(x=\"CabinBool\", y=\"Survived\", data=train)\n",
        "plt.show()\n"
      ],
      "execution_count": 14,
      "outputs": [
        {
          "output_type": "stream",
          "text": [
            "Percentage of CabinBool = 1 who survived: 66.66666666666666\n",
            "Percentage of CabinBool = 0 who survived: 29.985443959243085\n"
          ],
          "name": "stdout"
        },
        {
          "output_type": "display_data",
          "data": {
            "image/png": "[encoded data removed]",
            "text/plain": [
              "<Figure size 432x288 with 1 Axes>"
            ]
          },
          "metadata": {
            "tags": []
          }
        }
      ]
    },
    {
      "cell_type": "code",
      "metadata": {
        "id": "VHy52px9juEZ",
        "colab_type": "code",
        "outputId": "56b05c4c-546b-4756-e68d-ab1aba229873",
        "colab": {
          "base_uri": "https://localhost:8080/",
          "height": 338
        }
      },
      "source": [
        "sns.heatmap(train.corr())\n",
        "sns.heatmap(train.corr(), annot=True, fmt='.3f')\n",
        "sns.heatmap(train.corr(), cmap='YlGnBu', annot=True, fmt='.3f')"
      ],
      "execution_count": 15,
      "outputs": [
        {
          "output_type": "execute_result",
          "data": {
            "text/plain": [
              "<matplotlib.axes._subplots.AxesSubplot at 0x7fde965d2e10>"
            ]
          },
          "metadata": {
            "tags": []
          },
          "execution_count": 15
        },
        {
          "output_type": "display_data",
          "data": {
            "image/png": "[encoded data removed]",
            "text/plain": [
              "<Figure size 432x288 with 4 Axes>"
            ]
          },
          "metadata": {
            "tags": []
          }
        }
      ]
    },
    {
      "cell_type": "markdown",
      "metadata": {
        "id": "vyIxCXdVJrP_",
        "colab_type": "text"
      },
      "source": [
        "**Очистка данных**"
      ]
    },
    {
      "cell_type": "code",
      "metadata": {
        "id": "hcsIGbkk36P_",
        "colab_type": "code",
        "outputId": "568f723a-03ce-48bd-bb11-2d3fd9adeb50",
        "colab": {
          "base_uri": "https://localhost:8080/",
          "height": 458
        }
      },
      "source": [
        "test.describe(include=\"all\")"
      ],
      "execution_count": 16,
      "outputs": [
        {
          "output_type": "execute_result",
          "data": {
            "text/html": [
              "<div>\n",
              "<style scoped>\n",
              "    .dataframe tbody tr th:only-of-type {\n",
              "        vertical-align: middle;\n",
              "    }\n",
              "\n",
              "    .dataframe tbody tr th {\n",
              "        vertical-align: top;\n",
              "    }\n",
              "\n",
              "    .dataframe thead th {\n",
              "        text-align: right;\n",
              "    }\n",
              "</style>\n",
              "<table border=\"1\" class=\"dataframe\">\n",
              "  <thead>\n",
              "    <tr style=\"text-align: right;\">\n",
              "      <th></th>\n",
              "      <th>PassengerId</th>\n",
              "      <th>Pclass</th>\n",
              "      <th>Name</th>\n",
              "      <th>Sex</th>\n",
              "      <th>Age</th>\n",
              "      <th>SibSp</th>\n",
              "      <th>Parch</th>\n",
              "      <th>Ticket</th>\n",
              "      <th>Fare</th>\n",
              "      <th>Cabin</th>\n",
              "      <th>Embarked</th>\n",
              "      <th>AgeGroup</th>\n",
              "      <th>CabinBool</th>\n",
              "    </tr>\n",
              "  </thead>\n",
              "  <tbody>\n",
              "    <tr>\n",
              "      <th>count</th>\n",
              "      <td>418.000000</td>\n",
              "      <td>418.000000</td>\n",
              "      <td>418</td>\n",
              "      <td>418</td>\n",
              "      <td>418.000000</td>\n",
              "      <td>418.000000</td>\n",
              "      <td>418.000000</td>\n",
              "      <td>418</td>\n",
              "      <td>417.000000</td>\n",
              "      <td>91</td>\n",
              "      <td>418</td>\n",
              "      <td>418</td>\n",
              "      <td>418.000000</td>\n",
              "    </tr>\n",
              "    <tr>\n",
              "      <th>unique</th>\n",
              "      <td>NaN</td>\n",
              "      <td>NaN</td>\n",
              "      <td>418</td>\n",
              "      <td>2</td>\n",
              "      <td>NaN</td>\n",
              "      <td>NaN</td>\n",
              "      <td>NaN</td>\n",
              "      <td>363</td>\n",
              "      <td>NaN</td>\n",
              "      <td>76</td>\n",
              "      <td>3</td>\n",
              "      <td>8</td>\n",
              "      <td>NaN</td>\n",
              "    </tr>\n",
              "    <tr>\n",
              "      <th>top</th>\n",
              "      <td>NaN</td>\n",
              "      <td>NaN</td>\n",
              "      <td>Dodge, Dr. Washington</td>\n",
              "      <td>male</td>\n",
              "      <td>NaN</td>\n",
              "      <td>NaN</td>\n",
              "      <td>NaN</td>\n",
              "      <td>PC 17608</td>\n",
              "      <td>NaN</td>\n",
              "      <td>B57 B59 B63 B66</td>\n",
              "      <td>S</td>\n",
              "      <td>Young Adult</td>\n",
              "      <td>NaN</td>\n",
              "    </tr>\n",
              "    <tr>\n",
              "      <th>freq</th>\n",
              "      <td>NaN</td>\n",
              "      <td>NaN</td>\n",
              "      <td>1</td>\n",
              "      <td>266</td>\n",
              "      <td>NaN</td>\n",
              "      <td>NaN</td>\n",
              "      <td>NaN</td>\n",
              "      <td>5</td>\n",
              "      <td>NaN</td>\n",
              "      <td>3</td>\n",
              "      <td>270</td>\n",
              "      <td>96</td>\n",
              "      <td>NaN</td>\n",
              "    </tr>\n",
              "    <tr>\n",
              "      <th>mean</th>\n",
              "      <td>1100.500000</td>\n",
              "      <td>2.265550</td>\n",
              "      <td>NaN</td>\n",
              "      <td>NaN</td>\n",
              "      <td>23.941388</td>\n",
              "      <td>0.447368</td>\n",
              "      <td>0.392344</td>\n",
              "      <td>NaN</td>\n",
              "      <td>35.627188</td>\n",
              "      <td>NaN</td>\n",
              "      <td>NaN</td>\n",
              "      <td>NaN</td>\n",
              "      <td>0.217703</td>\n",
              "    </tr>\n",
              "    <tr>\n",
              "      <th>std</th>\n",
              "      <td>120.810458</td>\n",
              "      <td>0.841838</td>\n",
              "      <td>NaN</td>\n",
              "      <td>NaN</td>\n",
              "      <td>17.741080</td>\n",
              "      <td>0.896760</td>\n",
              "      <td>0.981429</td>\n",
              "      <td>NaN</td>\n",
              "      <td>55.907576</td>\n",
              "      <td>NaN</td>\n",
              "      <td>NaN</td>\n",
              "      <td>NaN</td>\n",
              "      <td>0.413179</td>\n",
              "    </tr>\n",
              "    <tr>\n",
              "      <th>min</th>\n",
              "      <td>892.000000</td>\n",
              "      <td>1.000000</td>\n",
              "      <td>NaN</td>\n",
              "      <td>NaN</td>\n",
              "      <td>-0.500000</td>\n",
              "      <td>0.000000</td>\n",
              "      <td>0.000000</td>\n",
              "      <td>NaN</td>\n",
              "      <td>0.000000</td>\n",
              "      <td>NaN</td>\n",
              "      <td>NaN</td>\n",
              "      <td>NaN</td>\n",
              "      <td>0.000000</td>\n",
              "    </tr>\n",
              "    <tr>\n",
              "      <th>25%</th>\n",
              "      <td>996.250000</td>\n",
              "      <td>1.000000</td>\n",
              "      <td>NaN</td>\n",
              "      <td>NaN</td>\n",
              "      <td>9.000000</td>\n",
              "      <td>0.000000</td>\n",
              "      <td>0.000000</td>\n",
              "      <td>NaN</td>\n",
              "      <td>7.895800</td>\n",
              "      <td>NaN</td>\n",
              "      <td>NaN</td>\n",
              "      <td>NaN</td>\n",
              "      <td>0.000000</td>\n",
              "    </tr>\n",
              "    <tr>\n",
              "      <th>50%</th>\n",
              "      <td>1100.500000</td>\n",
              "      <td>3.000000</td>\n",
              "      <td>NaN</td>\n",
              "      <td>NaN</td>\n",
              "      <td>24.000000</td>\n",
              "      <td>0.000000</td>\n",
              "      <td>0.000000</td>\n",
              "      <td>NaN</td>\n",
              "      <td>14.454200</td>\n",
              "      <td>NaN</td>\n",
              "      <td>NaN</td>\n",
              "      <td>NaN</td>\n",
              "      <td>0.000000</td>\n",
              "    </tr>\n",
              "    <tr>\n",
              "      <th>75%</th>\n",
              "      <td>1204.750000</td>\n",
              "      <td>3.000000</td>\n",
              "      <td>NaN</td>\n",
              "      <td>NaN</td>\n",
              "      <td>35.750000</td>\n",
              "      <td>1.000000</td>\n",
              "      <td>0.000000</td>\n",
              "      <td>NaN</td>\n",
              "      <td>31.500000</td>\n",
              "      <td>NaN</td>\n",
              "      <td>NaN</td>\n",
              "      <td>NaN</td>\n",
              "      <td>0.000000</td>\n",
              "    </tr>\n",
              "    <tr>\n",
              "      <th>max</th>\n",
              "      <td>1309.000000</td>\n",
              "      <td>3.000000</td>\n",
              "      <td>NaN</td>\n",
              "      <td>NaN</td>\n",
              "      <td>76.000000</td>\n",
              "      <td>8.000000</td>\n",
              "      <td>9.000000</td>\n",
              "      <td>NaN</td>\n",
              "      <td>512.329200</td>\n",
              "      <td>NaN</td>\n",
              "      <td>NaN</td>\n",
              "      <td>NaN</td>\n",
              "      <td>1.000000</td>\n",
              "    </tr>\n",
              "  </tbody>\n",
              "</table>\n",
              "</div>"
            ],
            "text/plain": [
              "        PassengerId      Pclass  ...     AgeGroup   CabinBool\n",
              "count    418.000000  418.000000  ...          418  418.000000\n",
              "unique          NaN         NaN  ...            8         NaN\n",
              "top             NaN         NaN  ...  Young Adult         NaN\n",
              "freq            NaN         NaN  ...           96         NaN\n",
              "mean    1100.500000    2.265550  ...          NaN    0.217703\n",
              "std      120.810458    0.841838  ...          NaN    0.413179\n",
              "min      892.000000    1.000000  ...          NaN    0.000000\n",
              "25%      996.250000    1.000000  ...          NaN    0.000000\n",
              "50%     1100.500000    3.000000  ...          NaN    0.000000\n",
              "75%     1204.750000    3.000000  ...          NaN    0.000000\n",
              "max     1309.000000    3.000000  ...          NaN    1.000000\n",
              "\n",
              "[11 rows x 13 columns]"
            ]
          },
          "metadata": {
            "tags": []
          },
          "execution_count": 16
        }
      ]
    },
    {
      "cell_type": "markdown",
      "metadata": {
        "id": "dWQIz0abKB-5",
        "colab_type": "text"
      },
      "source": [
        "очистка кабин"
      ]
    },
    {
      "cell_type": "code",
      "metadata": {
        "id": "FcxxOR1Z4Ecr",
        "colab_type": "code",
        "colab": {}
      },
      "source": [
        "train = train.drop(['Cabin'], axis = 1)\n",
        "test = test.drop(['Cabin'], axis = 1)"
      ],
      "execution_count": 0,
      "outputs": []
    },
    {
      "cell_type": "markdown",
      "metadata": {
        "id": "5G46VaS1KUSU",
        "colab_type": "text"
      },
      "source": [
        "очистка билетов"
      ]
    },
    {
      "cell_type": "code",
      "metadata": {
        "id": "mcRuKI3a4GMr",
        "colab_type": "code",
        "colab": {}
      },
      "source": [
        "train = train.drop(['Ticket'], axis = 1)\n",
        "test = test.drop(['Ticket'], axis = 1)"
      ],
      "execution_count": 0,
      "outputs": []
    },
    {
      "cell_type": "markdown",
      "metadata": {
        "id": "IMpi0FW1KZfL",
        "colab_type": "text"
      },
      "source": [
        "заполнение пропусков в порту захода\n"
      ]
    },
    {
      "cell_type": "code",
      "metadata": {
        "id": "dB6zpS8t4IDL",
        "colab_type": "code",
        "outputId": "b9975a10-e5c4-4fe0-9761-b0aa4211e27e",
        "colab": {
          "base_uri": "https://localhost:8080/",
          "height": 121
        }
      },
      "source": [
        "print(\"Number of people embarking in Southampton (S):\")\n",
        "southampton = train[train[\"Embarked\"] == \"S\"].shape[0]\n",
        "print(southampton)\n",
        "\n",
        "print(\"Number of people embarking in Cherbourg (C):\")\n",
        "cherbourg = train[train[\"Embarked\"] == \"C\"].shape[0]\n",
        "print(cherbourg)\n",
        "\n",
        "print(\"Number of people embarking in Queenstown (Q):\")\n",
        "queenstown = train[train[\"Embarked\"] == \"Q\"].shape[0]\n",
        "print(queenstown)"
      ],
      "execution_count": 19,
      "outputs": [
        {
          "output_type": "stream",
          "text": [
            "Number of people embarking in Southampton (S):\n",
            "644\n",
            "Number of people embarking in Cherbourg (C):\n",
            "168\n",
            "Number of people embarking in Queenstown (Q):\n",
            "77\n"
          ],
          "name": "stdout"
        }
      ]
    },
    {
      "cell_type": "markdown",
      "metadata": {
        "id": "PeGEFDqaKzU3",
        "colab_type": "text"
      },
      "source": [
        "\n",
        "Замена пропусков "
      ]
    },
    {
      "cell_type": "code",
      "metadata": {
        "id": "q3NdD0yf4Lp7",
        "colab_type": "code",
        "colab": {}
      },
      "source": [
        "train = train.fillna({\"Embarked\": \"S\"})"
      ],
      "execution_count": 0,
      "outputs": []
    },
    {
      "cell_type": "code",
      "metadata": {
        "id": "Zcm2Eyb54QQO",
        "colab_type": "code",
        "outputId": "ef11389c-cb61-4b03-f098-5e5dc180c700",
        "colab": {
          "base_uri": "https://localhost:8080/",
          "height": 601
        }
      },
      "source": [
        "\n",
        "combine = [train, test]\n",
        "\n",
        "for dataset in combine:\n",
        "    dataset['Title'] = dataset.Name.str.extract(' ([A-Za-z]+)\\.', expand=False)\n",
        "\n",
        "pd.crosstab(train['Title'], train['Sex'])"
      ],
      "execution_count": 21,
      "outputs": [
        {
          "output_type": "execute_result",
          "data": {
            "text/html": [
              "<div>\n",
              "<style scoped>\n",
              "    .dataframe tbody tr th:only-of-type {\n",
              "        vertical-align: middle;\n",
              "    }\n",
              "\n",
              "    .dataframe tbody tr th {\n",
              "        vertical-align: top;\n",
              "    }\n",
              "\n",
              "    .dataframe thead th {\n",
              "        text-align: right;\n",
              "    }\n",
              "</style>\n",
              "<table border=\"1\" class=\"dataframe\">\n",
              "  <thead>\n",
              "    <tr style=\"text-align: right;\">\n",
              "      <th>Sex</th>\n",
              "      <th>female</th>\n",
              "      <th>male</th>\n",
              "    </tr>\n",
              "    <tr>\n",
              "      <th>Title</th>\n",
              "      <th></th>\n",
              "      <th></th>\n",
              "    </tr>\n",
              "  </thead>\n",
              "  <tbody>\n",
              "    <tr>\n",
              "      <th>Capt</th>\n",
              "      <td>0</td>\n",
              "      <td>1</td>\n",
              "    </tr>\n",
              "    <tr>\n",
              "      <th>Col</th>\n",
              "      <td>0</td>\n",
              "      <td>2</td>\n",
              "    </tr>\n",
              "    <tr>\n",
              "      <th>Countess</th>\n",
              "      <td>1</td>\n",
              "      <td>0</td>\n",
              "    </tr>\n",
              "    <tr>\n",
              "      <th>Don</th>\n",
              "      <td>0</td>\n",
              "      <td>1</td>\n",
              "    </tr>\n",
              "    <tr>\n",
              "      <th>Dr</th>\n",
              "      <td>1</td>\n",
              "      <td>6</td>\n",
              "    </tr>\n",
              "    <tr>\n",
              "      <th>Jonkheer</th>\n",
              "      <td>0</td>\n",
              "      <td>1</td>\n",
              "    </tr>\n",
              "    <tr>\n",
              "      <th>Lady</th>\n",
              "      <td>1</td>\n",
              "      <td>0</td>\n",
              "    </tr>\n",
              "    <tr>\n",
              "      <th>Major</th>\n",
              "      <td>0</td>\n",
              "      <td>2</td>\n",
              "    </tr>\n",
              "    <tr>\n",
              "      <th>Master</th>\n",
              "      <td>0</td>\n",
              "      <td>40</td>\n",
              "    </tr>\n",
              "    <tr>\n",
              "      <th>Miss</th>\n",
              "      <td>182</td>\n",
              "      <td>0</td>\n",
              "    </tr>\n",
              "    <tr>\n",
              "      <th>Mlle</th>\n",
              "      <td>2</td>\n",
              "      <td>0</td>\n",
              "    </tr>\n",
              "    <tr>\n",
              "      <th>Mme</th>\n",
              "      <td>1</td>\n",
              "      <td>0</td>\n",
              "    </tr>\n",
              "    <tr>\n",
              "      <th>Mr</th>\n",
              "      <td>0</td>\n",
              "      <td>517</td>\n",
              "    </tr>\n",
              "    <tr>\n",
              "      <th>Mrs</th>\n",
              "      <td>125</td>\n",
              "      <td>0</td>\n",
              "    </tr>\n",
              "    <tr>\n",
              "      <th>Ms</th>\n",
              "      <td>1</td>\n",
              "      <td>0</td>\n",
              "    </tr>\n",
              "    <tr>\n",
              "      <th>Rev</th>\n",
              "      <td>0</td>\n",
              "      <td>6</td>\n",
              "    </tr>\n",
              "    <tr>\n",
              "      <th>Sir</th>\n",
              "      <td>0</td>\n",
              "      <td>1</td>\n",
              "    </tr>\n",
              "  </tbody>\n",
              "</table>\n",
              "</div>"
            ],
            "text/plain": [
              "Sex       female  male\n",
              "Title                 \n",
              "Capt           0     1\n",
              "Col            0     2\n",
              "Countess       1     0\n",
              "Don            0     1\n",
              "Dr             1     6\n",
              "Jonkheer       0     1\n",
              "Lady           1     0\n",
              "Major          0     2\n",
              "Master         0    40\n",
              "Miss         182     0\n",
              "Mlle           2     0\n",
              "Mme            1     0\n",
              "Mr             0   517\n",
              "Mrs          125     0\n",
              "Ms             1     0\n",
              "Rev            0     6\n",
              "Sir            0     1"
            ]
          },
          "metadata": {
            "tags": []
          },
          "execution_count": 21
        }
      ]
    },
    {
      "cell_type": "code",
      "metadata": {
        "id": "XS7AmeQ64Szs",
        "colab_type": "code",
        "outputId": "3cce93eb-5725-436a-eda2-e880976519eb",
        "colab": {
          "base_uri": "https://localhost:8080/",
          "height": 233
        }
      },
      "source": [
        "for dataset in combine:\n",
        "    dataset['Title'] = dataset['Title'].replace(['Lady', 'Capt', 'Col',\n",
        "    'Don', 'Dr', 'Major', 'Rev', 'Jonkheer', 'Dona'], 'Rare')\n",
        "    \n",
        "    dataset['Title'] = dataset['Title'].replace(['Countess', 'Lady', 'Sir'], 'Royal')\n",
        "    dataset['Title'] = dataset['Title'].replace('Mlle', 'Miss')\n",
        "    dataset['Title'] = dataset['Title'].replace('Ms', 'Miss')\n",
        "    dataset['Title'] = dataset['Title'].replace('Mme', 'Mrs')\n",
        "\n",
        "train[['Title', 'Survived']].groupby(['Title'], as_index=False).mean()"
      ],
      "execution_count": 22,
      "outputs": [
        {
          "output_type": "execute_result",
          "data": {
            "text/html": [
              "<div>\n",
              "<style scoped>\n",
              "    .dataframe tbody tr th:only-of-type {\n",
              "        vertical-align: middle;\n",
              "    }\n",
              "\n",
              "    .dataframe tbody tr th {\n",
              "        vertical-align: top;\n",
              "    }\n",
              "\n",
              "    .dataframe thead th {\n",
              "        text-align: right;\n",
              "    }\n",
              "</style>\n",
              "<table border=\"1\" class=\"dataframe\">\n",
              "  <thead>\n",
              "    <tr style=\"text-align: right;\">\n",
              "      <th></th>\n",
              "      <th>Title</th>\n",
              "      <th>Survived</th>\n",
              "    </tr>\n",
              "  </thead>\n",
              "  <tbody>\n",
              "    <tr>\n",
              "      <th>0</th>\n",
              "      <td>Master</td>\n",
              "      <td>0.575000</td>\n",
              "    </tr>\n",
              "    <tr>\n",
              "      <th>1</th>\n",
              "      <td>Miss</td>\n",
              "      <td>0.702703</td>\n",
              "    </tr>\n",
              "    <tr>\n",
              "      <th>2</th>\n",
              "      <td>Mr</td>\n",
              "      <td>0.156673</td>\n",
              "    </tr>\n",
              "    <tr>\n",
              "      <th>3</th>\n",
              "      <td>Mrs</td>\n",
              "      <td>0.793651</td>\n",
              "    </tr>\n",
              "    <tr>\n",
              "      <th>4</th>\n",
              "      <td>Rare</td>\n",
              "      <td>0.285714</td>\n",
              "    </tr>\n",
              "    <tr>\n",
              "      <th>5</th>\n",
              "      <td>Royal</td>\n",
              "      <td>1.000000</td>\n",
              "    </tr>\n",
              "  </tbody>\n",
              "</table>\n",
              "</div>"
            ],
            "text/plain": [
              "    Title  Survived\n",
              "0  Master  0.575000\n",
              "1    Miss  0.702703\n",
              "2      Mr  0.156673\n",
              "3     Mrs  0.793651\n",
              "4    Rare  0.285714\n",
              "5   Royal  1.000000"
            ]
          },
          "metadata": {
            "tags": []
          },
          "execution_count": 22
        }
      ]
    },
    {
      "cell_type": "code",
      "metadata": {
        "id": "zoG4Cy574Ws-",
        "colab_type": "code",
        "outputId": "abf4f4d9-e3d5-41d5-fa38-46470f137382",
        "colab": {
          "base_uri": "https://localhost:8080/",
          "height": 499
        }
      },
      "source": [
        "title_mapping = {\"Mr\": 1, \"Miss\": 2, \"Mrs\": 3, \"Master\": 4, \"Royal\": 5, \"Rare\": 6}\n",
        "for dataset in combine:\n",
        "    dataset['Title'] = dataset['Title'].map(title_mapping)\n",
        "    dataset['Title'] = dataset['Title'].fillna(0)\n",
        "\n",
        "train.head()"
      ],
      "execution_count": 23,
      "outputs": [
        {
          "output_type": "execute_result",
          "data": {
            "text/html": [
              "<div>\n",
              "<style scoped>\n",
              "    .dataframe tbody tr th:only-of-type {\n",
              "        vertical-align: middle;\n",
              "    }\n",
              "\n",
              "    .dataframe tbody tr th {\n",
              "        vertical-align: top;\n",
              "    }\n",
              "\n",
              "    .dataframe thead th {\n",
              "        text-align: right;\n",
              "    }\n",
              "</style>\n",
              "<table border=\"1\" class=\"dataframe\">\n",
              "  <thead>\n",
              "    <tr style=\"text-align: right;\">\n",
              "      <th></th>\n",
              "      <th>PassengerId</th>\n",
              "      <th>Survived</th>\n",
              "      <th>Pclass</th>\n",
              "      <th>Name</th>\n",
              "      <th>Sex</th>\n",
              "      <th>Age</th>\n",
              "      <th>SibSp</th>\n",
              "      <th>Parch</th>\n",
              "      <th>Fare</th>\n",
              "      <th>Embarked</th>\n",
              "      <th>AgeGroup</th>\n",
              "      <th>CabinBool</th>\n",
              "      <th>Title</th>\n",
              "    </tr>\n",
              "  </thead>\n",
              "  <tbody>\n",
              "    <tr>\n",
              "      <th>0</th>\n",
              "      <td>1</td>\n",
              "      <td>0</td>\n",
              "      <td>3</td>\n",
              "      <td>Braund, Mr. Owen Harris</td>\n",
              "      <td>male</td>\n",
              "      <td>22.0</td>\n",
              "      <td>1</td>\n",
              "      <td>0</td>\n",
              "      <td>7.2500</td>\n",
              "      <td>S</td>\n",
              "      <td>Student</td>\n",
              "      <td>0</td>\n",
              "      <td>1</td>\n",
              "    </tr>\n",
              "    <tr>\n",
              "      <th>1</th>\n",
              "      <td>2</td>\n",
              "      <td>1</td>\n",
              "      <td>1</td>\n",
              "      <td>Cumings, Mrs. John Bradley (Florence Briggs Th...</td>\n",
              "      <td>female</td>\n",
              "      <td>38.0</td>\n",
              "      <td>1</td>\n",
              "      <td>0</td>\n",
              "      <td>71.2833</td>\n",
              "      <td>C</td>\n",
              "      <td>Adult</td>\n",
              "      <td>1</td>\n",
              "      <td>3</td>\n",
              "    </tr>\n",
              "    <tr>\n",
              "      <th>2</th>\n",
              "      <td>3</td>\n",
              "      <td>1</td>\n",
              "      <td>3</td>\n",
              "      <td>Heikkinen, Miss. Laina</td>\n",
              "      <td>female</td>\n",
              "      <td>26.0</td>\n",
              "      <td>0</td>\n",
              "      <td>0</td>\n",
              "      <td>7.9250</td>\n",
              "      <td>S</td>\n",
              "      <td>Young Adult</td>\n",
              "      <td>0</td>\n",
              "      <td>2</td>\n",
              "    </tr>\n",
              "    <tr>\n",
              "      <th>3</th>\n",
              "      <td>4</td>\n",
              "      <td>1</td>\n",
              "      <td>1</td>\n",
              "      <td>Futrelle, Mrs. Jacques Heath (Lily May Peel)</td>\n",
              "      <td>female</td>\n",
              "      <td>35.0</td>\n",
              "      <td>1</td>\n",
              "      <td>0</td>\n",
              "      <td>53.1000</td>\n",
              "      <td>S</td>\n",
              "      <td>Young Adult</td>\n",
              "      <td>1</td>\n",
              "      <td>3</td>\n",
              "    </tr>\n",
              "    <tr>\n",
              "      <th>4</th>\n",
              "      <td>5</td>\n",
              "      <td>0</td>\n",
              "      <td>3</td>\n",
              "      <td>Allen, Mr. William Henry</td>\n",
              "      <td>male</td>\n",
              "      <td>35.0</td>\n",
              "      <td>0</td>\n",
              "      <td>0</td>\n",
              "      <td>8.0500</td>\n",
              "      <td>S</td>\n",
              "      <td>Young Adult</td>\n",
              "      <td>0</td>\n",
              "      <td>1</td>\n",
              "    </tr>\n",
              "  </tbody>\n",
              "</table>\n",
              "</div>"
            ],
            "text/plain": [
              "   PassengerId  Survived  Pclass  ...     AgeGroup CabinBool  Title\n",
              "0            1         0       3  ...      Student         0      1\n",
              "1            2         1       1  ...        Adult         1      3\n",
              "2            3         1       3  ...  Young Adult         0      2\n",
              "3            4         1       1  ...  Young Adult         1      3\n",
              "4            5         0       3  ...  Young Adult         0      1\n",
              "\n",
              "[5 rows x 13 columns]"
            ]
          },
          "metadata": {
            "tags": []
          },
          "execution_count": 23
        }
      ]
    },
    {
      "cell_type": "markdown",
      "metadata": {
        "id": "kxdDACS2LrwG",
        "colab_type": "text"
      },
      "source": [
        "заполнение пропусков в возрасте\n"
      ]
    },
    {
      "cell_type": "code",
      "metadata": {
        "id": "R6Xyg1J64ZTZ",
        "colab_type": "code",
        "colab": {}
      },
      "source": [
        "\n",
        "mr_age = train[train[\"Title\"] == 1][\"AgeGroup\"].mode() #Young Adult\n",
        "miss_age = train[train[\"Title\"] == 2][\"AgeGroup\"].mode() #Student\n",
        "mrs_age = train[train[\"Title\"] == 3][\"AgeGroup\"].mode() #Adult\n",
        "master_age = train[train[\"Title\"] == 4][\"AgeGroup\"].mode() #Baby\n",
        "royal_age = train[train[\"Title\"] == 5][\"AgeGroup\"].mode() #Adult\n",
        "rare_age = train[train[\"Title\"] == 6][\"AgeGroup\"].mode() #Adult\n",
        "\n",
        "age_title_mapping = {1: \"Young Adult\", 2: \"Student\", 3: \"Adult\", 4: \"Baby\", 5: \"Adult\", 6: \"Adult\"}\n",
        "\n",
        "\n",
        "for x in range(len(train[\"AgeGroup\"])):\n",
        "    if train[\"AgeGroup\"][x] == \"Unknown\":\n",
        "        train[\"AgeGroup\"][x] = age_title_mapping[train[\"Title\"][x]]\n",
        "        \n",
        "for x in range(len(test[\"AgeGroup\"])):\n",
        "    if test[\"AgeGroup\"][x] == \"Unknown\":\n",
        "        test[\"AgeGroup\"][x] = age_title_mapping[test[\"Title\"][x]]"
      ],
      "execution_count": 0,
      "outputs": []
    },
    {
      "cell_type": "code",
      "metadata": {
        "id": "n1TXcC-s4fsk",
        "colab_type": "code",
        "colab": {}
      },
      "source": [
        "age_mapping = {'Baby': 1, 'Child': 2, 'Teenager': 3, 'Student': 4, 'Young Adult': 5, 'Adult': 6, 'Senior': 7}\n",
        "train['AgeGroup'] = train['AgeGroup'].map(age_mapping)\n",
        "test['AgeGroup'] = test['AgeGroup'].map(age_mapping)\n",
        "\n",
        "train.head()\n",
        "\n",
        "train = train.drop(['Age'], axis = 1)\n",
        "test = test.drop(['Age'], axis = 1)"
      ],
      "execution_count": 0,
      "outputs": []
    },
    {
      "cell_type": "code",
      "metadata": {
        "id": "MpiwS6AU4i44",
        "colab_type": "code",
        "colab": {}
      },
      "source": [
        "train = train.drop(['Name'], axis = 1)\n",
        "test = test.drop(['Name'], axis = 1)"
      ],
      "execution_count": 0,
      "outputs": []
    },
    {
      "cell_type": "code",
      "metadata": {
        "id": "b-qVw8_g4mv1",
        "colab_type": "code",
        "outputId": "50ada944-0939-4c01-a350-c35d73687a95",
        "colab": {
          "base_uri": "https://localhost:8080/",
          "height": 202
        }
      },
      "source": [
        "sex_mapping = {\"male\": 0, \"female\": 1}\n",
        "train['Sex'] = train['Sex'].map(sex_mapping)\n",
        "test['Sex'] = test['Sex'].map(sex_mapping)\n",
        "\n",
        "train.head()"
      ],
      "execution_count": 27,
      "outputs": [
        {
          "output_type": "execute_result",
          "data": {
            "text/html": [
              "<div>\n",
              "<style scoped>\n",
              "    .dataframe tbody tr th:only-of-type {\n",
              "        vertical-align: middle;\n",
              "    }\n",
              "\n",
              "    .dataframe tbody tr th {\n",
              "        vertical-align: top;\n",
              "    }\n",
              "\n",
              "    .dataframe thead th {\n",
              "        text-align: right;\n",
              "    }\n",
              "</style>\n",
              "<table border=\"1\" class=\"dataframe\">\n",
              "  <thead>\n",
              "    <tr style=\"text-align: right;\">\n",
              "      <th></th>\n",
              "      <th>PassengerId</th>\n",
              "      <th>Survived</th>\n",
              "      <th>Pclass</th>\n",
              "      <th>Sex</th>\n",
              "      <th>SibSp</th>\n",
              "      <th>Parch</th>\n",
              "      <th>Fare</th>\n",
              "      <th>Embarked</th>\n",
              "      <th>AgeGroup</th>\n",
              "      <th>CabinBool</th>\n",
              "      <th>Title</th>\n",
              "    </tr>\n",
              "  </thead>\n",
              "  <tbody>\n",
              "    <tr>\n",
              "      <th>0</th>\n",
              "      <td>1</td>\n",
              "      <td>0</td>\n",
              "      <td>3</td>\n",
              "      <td>0</td>\n",
              "      <td>1</td>\n",
              "      <td>0</td>\n",
              "      <td>7.2500</td>\n",
              "      <td>S</td>\n",
              "      <td>4</td>\n",
              "      <td>0</td>\n",
              "      <td>1</td>\n",
              "    </tr>\n",
              "    <tr>\n",
              "      <th>1</th>\n",
              "      <td>2</td>\n",
              "      <td>1</td>\n",
              "      <td>1</td>\n",
              "      <td>1</td>\n",
              "      <td>1</td>\n",
              "      <td>0</td>\n",
              "      <td>71.2833</td>\n",
              "      <td>C</td>\n",
              "      <td>6</td>\n",
              "      <td>1</td>\n",
              "      <td>3</td>\n",
              "    </tr>\n",
              "    <tr>\n",
              "      <th>2</th>\n",
              "      <td>3</td>\n",
              "      <td>1</td>\n",
              "      <td>3</td>\n",
              "      <td>1</td>\n",
              "      <td>0</td>\n",
              "      <td>0</td>\n",
              "      <td>7.9250</td>\n",
              "      <td>S</td>\n",
              "      <td>5</td>\n",
              "      <td>0</td>\n",
              "      <td>2</td>\n",
              "    </tr>\n",
              "    <tr>\n",
              "      <th>3</th>\n",
              "      <td>4</td>\n",
              "      <td>1</td>\n",
              "      <td>1</td>\n",
              "      <td>1</td>\n",
              "      <td>1</td>\n",
              "      <td>0</td>\n",
              "      <td>53.1000</td>\n",
              "      <td>S</td>\n",
              "      <td>5</td>\n",
              "      <td>1</td>\n",
              "      <td>3</td>\n",
              "    </tr>\n",
              "    <tr>\n",
              "      <th>4</th>\n",
              "      <td>5</td>\n",
              "      <td>0</td>\n",
              "      <td>3</td>\n",
              "      <td>0</td>\n",
              "      <td>0</td>\n",
              "      <td>0</td>\n",
              "      <td>8.0500</td>\n",
              "      <td>S</td>\n",
              "      <td>5</td>\n",
              "      <td>0</td>\n",
              "      <td>1</td>\n",
              "    </tr>\n",
              "  </tbody>\n",
              "</table>\n",
              "</div>"
            ],
            "text/plain": [
              "   PassengerId  Survived  Pclass  Sex  ...  Embarked  AgeGroup  CabinBool Title\n",
              "0            1         0       3    0  ...         S         4          0     1\n",
              "1            2         1       1    1  ...         C         6          1     3\n",
              "2            3         1       3    1  ...         S         5          0     2\n",
              "3            4         1       1    1  ...         S         5          1     3\n",
              "4            5         0       3    0  ...         S         5          0     1\n",
              "\n",
              "[5 rows x 11 columns]"
            ]
          },
          "metadata": {
            "tags": []
          },
          "execution_count": 27
        }
      ]
    },
    {
      "cell_type": "code",
      "metadata": {
        "id": "g8MZGnOl4rRz",
        "colab_type": "code",
        "outputId": "ebdac482-e098-45ce-8f7d-9d854e4a1c25",
        "colab": {
          "base_uri": "https://localhost:8080/",
          "height": 202
        }
      },
      "source": [
        "embarked_mapping = {\"S\": 1, \"C\": 2, \"Q\": 3}\n",
        "train['Embarked'] = train['Embarked'].map(embarked_mapping)\n",
        "test['Embarked'] = test['Embarked'].map(embarked_mapping)\n",
        "\n",
        "train.head()"
      ],
      "execution_count": 28,
      "outputs": [
        {
          "output_type": "execute_result",
          "data": {
            "text/html": [
              "<div>\n",
              "<style scoped>\n",
              "    .dataframe tbody tr th:only-of-type {\n",
              "        vertical-align: middle;\n",
              "    }\n",
              "\n",
              "    .dataframe tbody tr th {\n",
              "        vertical-align: top;\n",
              "    }\n",
              "\n",
              "    .dataframe thead th {\n",
              "        text-align: right;\n",
              "    }\n",
              "</style>\n",
              "<table border=\"1\" class=\"dataframe\">\n",
              "  <thead>\n",
              "    <tr style=\"text-align: right;\">\n",
              "      <th></th>\n",
              "      <th>PassengerId</th>\n",
              "      <th>Survived</th>\n",
              "      <th>Pclass</th>\n",
              "      <th>Sex</th>\n",
              "      <th>SibSp</th>\n",
              "      <th>Parch</th>\n",
              "      <th>Fare</th>\n",
              "      <th>Embarked</th>\n",
              "      <th>AgeGroup</th>\n",
              "      <th>CabinBool</th>\n",
              "      <th>Title</th>\n",
              "    </tr>\n",
              "  </thead>\n",
              "  <tbody>\n",
              "    <tr>\n",
              "      <th>0</th>\n",
              "      <td>1</td>\n",
              "      <td>0</td>\n",
              "      <td>3</td>\n",
              "      <td>0</td>\n",
              "      <td>1</td>\n",
              "      <td>0</td>\n",
              "      <td>7.2500</td>\n",
              "      <td>1</td>\n",
              "      <td>4</td>\n",
              "      <td>0</td>\n",
              "      <td>1</td>\n",
              "    </tr>\n",
              "    <tr>\n",
              "      <th>1</th>\n",
              "      <td>2</td>\n",
              "      <td>1</td>\n",
              "      <td>1</td>\n",
              "      <td>1</td>\n",
              "      <td>1</td>\n",
              "      <td>0</td>\n",
              "      <td>71.2833</td>\n",
              "      <td>2</td>\n",
              "      <td>6</td>\n",
              "      <td>1</td>\n",
              "      <td>3</td>\n",
              "    </tr>\n",
              "    <tr>\n",
              "      <th>2</th>\n",
              "      <td>3</td>\n",
              "      <td>1</td>\n",
              "      <td>3</td>\n",
              "      <td>1</td>\n",
              "      <td>0</td>\n",
              "      <td>0</td>\n",
              "      <td>7.9250</td>\n",
              "      <td>1</td>\n",
              "      <td>5</td>\n",
              "      <td>0</td>\n",
              "      <td>2</td>\n",
              "    </tr>\n",
              "    <tr>\n",
              "      <th>3</th>\n",
              "      <td>4</td>\n",
              "      <td>1</td>\n",
              "      <td>1</td>\n",
              "      <td>1</td>\n",
              "      <td>1</td>\n",
              "      <td>0</td>\n",
              "      <td>53.1000</td>\n",
              "      <td>1</td>\n",
              "      <td>5</td>\n",
              "      <td>1</td>\n",
              "      <td>3</td>\n",
              "    </tr>\n",
              "    <tr>\n",
              "      <th>4</th>\n",
              "      <td>5</td>\n",
              "      <td>0</td>\n",
              "      <td>3</td>\n",
              "      <td>0</td>\n",
              "      <td>0</td>\n",
              "      <td>0</td>\n",
              "      <td>8.0500</td>\n",
              "      <td>1</td>\n",
              "      <td>5</td>\n",
              "      <td>0</td>\n",
              "      <td>1</td>\n",
              "    </tr>\n",
              "  </tbody>\n",
              "</table>\n",
              "</div>"
            ],
            "text/plain": [
              "   PassengerId  Survived  Pclass  Sex  ...  Embarked  AgeGroup  CabinBool  Title\n",
              "0            1         0       3    0  ...         1         4          0      1\n",
              "1            2         1       1    1  ...         2         6          1      3\n",
              "2            3         1       3    1  ...         1         5          0      2\n",
              "3            4         1       1    1  ...         1         5          1      3\n",
              "4            5         0       3    0  ...         1         5          0      1\n",
              "\n",
              "[5 rows x 11 columns]"
            ]
          },
          "metadata": {
            "tags": []
          },
          "execution_count": 28
        }
      ]
    },
    {
      "cell_type": "markdown",
      "metadata": {
        "id": "GTfY7sVpMHhA",
        "colab_type": "text"
      },
      "source": [
        "заполение пропусков в стоимости"
      ]
    },
    {
      "cell_type": "code",
      "metadata": {
        "id": "eDNh5CvO4ukk",
        "colab_type": "code",
        "colab": {}
      },
      "source": [
        "for x in range(len(test[\"Fare\"])):\n",
        "    if pd.isnull(test[\"Fare\"][x]):\n",
        "        pclass = test[\"Pclass\"][x]\n",
        "        test[\"Fare\"][x] = round(train[train[\"Pclass\"] == pclass][\"Fare\"].mean(), 4)\n",
        "        \n",
        "\n",
        "train['FareBand'] = pd.qcut(train['Fare'], 4, labels = [1, 2, 3, 4])\n",
        "test['FareBand'] = pd.qcut(test['Fare'], 4, labels = [1, 2, 3, 4])\n",
        "\n",
        "train = train.drop(['Fare'], axis = 1)\n",
        "test = test.drop(['Fare'], axis = 1)"
      ],
      "execution_count": 0,
      "outputs": []
    },
    {
      "cell_type": "code",
      "metadata": {
        "id": "IgIOhY_04wiZ",
        "colab_type": "code",
        "outputId": "a5d380b5-ef13-4677-983c-f6363891b066",
        "colab": {
          "base_uri": "https://localhost:8080/",
          "height": 202
        }
      },
      "source": [
        "\n",
        "train.head()"
      ],
      "execution_count": 30,
      "outputs": [
        {
          "output_type": "execute_result",
          "data": {
            "text/html": [
              "<div>\n",
              "<style scoped>\n",
              "    .dataframe tbody tr th:only-of-type {\n",
              "        vertical-align: middle;\n",
              "    }\n",
              "\n",
              "    .dataframe tbody tr th {\n",
              "        vertical-align: top;\n",
              "    }\n",
              "\n",
              "    .dataframe thead th {\n",
              "        text-align: right;\n",
              "    }\n",
              "</style>\n",
              "<table border=\"1\" class=\"dataframe\">\n",
              "  <thead>\n",
              "    <tr style=\"text-align: right;\">\n",
              "      <th></th>\n",
              "      <th>PassengerId</th>\n",
              "      <th>Survived</th>\n",
              "      <th>Pclass</th>\n",
              "      <th>Sex</th>\n",
              "      <th>SibSp</th>\n",
              "      <th>Parch</th>\n",
              "      <th>Embarked</th>\n",
              "      <th>AgeGroup</th>\n",
              "      <th>CabinBool</th>\n",
              "      <th>Title</th>\n",
              "      <th>FareBand</th>\n",
              "    </tr>\n",
              "  </thead>\n",
              "  <tbody>\n",
              "    <tr>\n",
              "      <th>0</th>\n",
              "      <td>1</td>\n",
              "      <td>0</td>\n",
              "      <td>3</td>\n",
              "      <td>0</td>\n",
              "      <td>1</td>\n",
              "      <td>0</td>\n",
              "      <td>1</td>\n",
              "      <td>4</td>\n",
              "      <td>0</td>\n",
              "      <td>1</td>\n",
              "      <td>1</td>\n",
              "    </tr>\n",
              "    <tr>\n",
              "      <th>1</th>\n",
              "      <td>2</td>\n",
              "      <td>1</td>\n",
              "      <td>1</td>\n",
              "      <td>1</td>\n",
              "      <td>1</td>\n",
              "      <td>0</td>\n",
              "      <td>2</td>\n",
              "      <td>6</td>\n",
              "      <td>1</td>\n",
              "      <td>3</td>\n",
              "      <td>4</td>\n",
              "    </tr>\n",
              "    <tr>\n",
              "      <th>2</th>\n",
              "      <td>3</td>\n",
              "      <td>1</td>\n",
              "      <td>3</td>\n",
              "      <td>1</td>\n",
              "      <td>0</td>\n",
              "      <td>0</td>\n",
              "      <td>1</td>\n",
              "      <td>5</td>\n",
              "      <td>0</td>\n",
              "      <td>2</td>\n",
              "      <td>2</td>\n",
              "    </tr>\n",
              "    <tr>\n",
              "      <th>3</th>\n",
              "      <td>4</td>\n",
              "      <td>1</td>\n",
              "      <td>1</td>\n",
              "      <td>1</td>\n",
              "      <td>1</td>\n",
              "      <td>0</td>\n",
              "      <td>1</td>\n",
              "      <td>5</td>\n",
              "      <td>1</td>\n",
              "      <td>3</td>\n",
              "      <td>4</td>\n",
              "    </tr>\n",
              "    <tr>\n",
              "      <th>4</th>\n",
              "      <td>5</td>\n",
              "      <td>0</td>\n",
              "      <td>3</td>\n",
              "      <td>0</td>\n",
              "      <td>0</td>\n",
              "      <td>0</td>\n",
              "      <td>1</td>\n",
              "      <td>5</td>\n",
              "      <td>0</td>\n",
              "      <td>1</td>\n",
              "      <td>2</td>\n",
              "    </tr>\n",
              "  </tbody>\n",
              "</table>\n",
              "</div>"
            ],
            "text/plain": [
              "   PassengerId  Survived  Pclass  Sex  ...  AgeGroup  CabinBool  Title  FareBand\n",
              "0            1         0       3    0  ...         4          0      1         1\n",
              "1            2         1       1    1  ...         6          1      3         4\n",
              "2            3         1       3    1  ...         5          0      2         2\n",
              "3            4         1       1    1  ...         5          1      3         4\n",
              "4            5         0       3    0  ...         5          0      1         2\n",
              "\n",
              "[5 rows x 11 columns]"
            ]
          },
          "metadata": {
            "tags": []
          },
          "execution_count": 30
        }
      ]
    },
    {
      "cell_type": "code",
      "metadata": {
        "id": "hd-hN4Ih46mn",
        "colab_type": "code",
        "outputId": "8120a5de-c66d-4bf9-c4d3-6f21481ecb9b",
        "colab": {
          "base_uri": "https://localhost:8080/",
          "height": 202
        }
      },
      "source": [
        "\n",
        "test.head()"
      ],
      "execution_count": 0,
      "outputs": [
        {
          "output_type": "execute_result",
          "data": {
            "text/html": [
              "<div>\n",
              "<style scoped>\n",
              "    .dataframe tbody tr th:only-of-type {\n",
              "        vertical-align: middle;\n",
              "    }\n",
              "\n",
              "    .dataframe tbody tr th {\n",
              "        vertical-align: top;\n",
              "    }\n",
              "\n",
              "    .dataframe thead th {\n",
              "        text-align: right;\n",
              "    }\n",
              "</style>\n",
              "<table border=\"1\" class=\"dataframe\">\n",
              "  <thead>\n",
              "    <tr style=\"text-align: right;\">\n",
              "      <th></th>\n",
              "      <th>PassengerId</th>\n",
              "      <th>Pclass</th>\n",
              "      <th>Sex</th>\n",
              "      <th>SibSp</th>\n",
              "      <th>Parch</th>\n",
              "      <th>Embarked</th>\n",
              "      <th>AgeGroup</th>\n",
              "      <th>CabinBool</th>\n",
              "      <th>Title</th>\n",
              "      <th>FareBand</th>\n",
              "    </tr>\n",
              "  </thead>\n",
              "  <tbody>\n",
              "    <tr>\n",
              "      <th>0</th>\n",
              "      <td>892</td>\n",
              "      <td>3</td>\n",
              "      <td>0</td>\n",
              "      <td>0</td>\n",
              "      <td>0</td>\n",
              "      <td>3</td>\n",
              "      <td>5</td>\n",
              "      <td>0</td>\n",
              "      <td>1</td>\n",
              "      <td>1</td>\n",
              "    </tr>\n",
              "    <tr>\n",
              "      <th>1</th>\n",
              "      <td>893</td>\n",
              "      <td>3</td>\n",
              "      <td>1</td>\n",
              "      <td>1</td>\n",
              "      <td>0</td>\n",
              "      <td>1</td>\n",
              "      <td>6</td>\n",
              "      <td>0</td>\n",
              "      <td>3</td>\n",
              "      <td>1</td>\n",
              "    </tr>\n",
              "    <tr>\n",
              "      <th>2</th>\n",
              "      <td>894</td>\n",
              "      <td>2</td>\n",
              "      <td>0</td>\n",
              "      <td>0</td>\n",
              "      <td>0</td>\n",
              "      <td>3</td>\n",
              "      <td>7</td>\n",
              "      <td>0</td>\n",
              "      <td>1</td>\n",
              "      <td>2</td>\n",
              "    </tr>\n",
              "    <tr>\n",
              "      <th>3</th>\n",
              "      <td>895</td>\n",
              "      <td>3</td>\n",
              "      <td>0</td>\n",
              "      <td>0</td>\n",
              "      <td>0</td>\n",
              "      <td>1</td>\n",
              "      <td>5</td>\n",
              "      <td>0</td>\n",
              "      <td>1</td>\n",
              "      <td>2</td>\n",
              "    </tr>\n",
              "    <tr>\n",
              "      <th>4</th>\n",
              "      <td>896</td>\n",
              "      <td>3</td>\n",
              "      <td>1</td>\n",
              "      <td>1</td>\n",
              "      <td>1</td>\n",
              "      <td>1</td>\n",
              "      <td>4</td>\n",
              "      <td>0</td>\n",
              "      <td>3</td>\n",
              "      <td>2</td>\n",
              "    </tr>\n",
              "  </tbody>\n",
              "</table>\n",
              "</div>"
            ],
            "text/plain": [
              "   PassengerId  Pclass  Sex  SibSp  ...  AgeGroup  CabinBool  Title  FareBand\n",
              "0          892       3    0      0  ...         5          0      1         1\n",
              "1          893       3    1      1  ...         6          0      3         1\n",
              "2          894       2    0      0  ...         7          0      1         2\n",
              "3          895       3    0      0  ...         5          0      1         2\n",
              "4          896       3    1      1  ...         4          0      3         2\n",
              "\n",
              "[5 rows x 10 columns]"
            ]
          },
          "metadata": {
            "tags": []
          },
          "execution_count": 36
        }
      ]
    },
    {
      "cell_type": "markdown",
      "metadata": {
        "id": "pdaf0TVGMdI2",
        "colab_type": "text"
      },
      "source": [
        "**Выбор наилучшей модели**"
      ]
    },
    {
      "cell_type": "code",
      "metadata": {
        "id": "yEwHGK9P4-mo",
        "colab_type": "code",
        "colab": {}
      },
      "source": [
        "from sklearn.model_selection import train_test_split\n",
        "\n",
        "predictors = train.drop(['Survived', 'PassengerId'], axis=1)\n",
        "target = train[\"Survived\"]\n",
        "x_train, x_val, y_train, y_val = train_test_split(predictors, target, test_size = 0.22, random_state = 0)"
      ],
      "execution_count": 0,
      "outputs": []
    },
    {
      "cell_type": "code",
      "metadata": {
        "id": "sNg3rpXIM6Tj",
        "colab_type": "code",
        "colab": {}
      },
      "source": [
        " Gaussian Naive Bayes \n",
        "  Он включает в себя предварительный и задний вероятностный расчет классов в наборе данных и тестовых данных, заданных классом соответственно."
      ],
      "execution_count": 0,
      "outputs": []
    },
    {
      "cell_type": "code",
      "metadata": {
        "id": "OCYl9WNJ5A6u",
        "colab_type": "code",
        "outputId": "05670373-5361-48fd-d00e-707af9695fb0",
        "colab": {
          "base_uri": "https://localhost:8080/",
          "height": 35
        }
      },
      "source": [
        "#\n",
        "from sklearn.naive_bayes import GaussianNB\n",
        "from sklearn.metrics import accuracy_score\n",
        "\n",
        "gaussian = GaussianNB()\n",
        "gaussian.fit(x_train, y_train)\n",
        "y_pred = gaussian.predict(x_val)\n",
        "acc_gaussian = round(accuracy_score(y_pred, y_val) * 100, 2)\n",
        "print(acc_gaussian)"
      ],
      "execution_count": 33,
      "outputs": [
        {
          "output_type": "stream",
          "text": [
            "78.68\n"
          ],
          "name": "stdout"
        }
      ]
    },
    {
      "cell_type": "markdown",
      "metadata": {
        "id": "ESWuGUP1NAvc",
        "colab_type": "text"
      },
      "source": [
        "Logistic Regression используется для описания данных и объяснения связи между одной зависимой переменной и одной или несколькими номинальными, порядковыми, интервальными или независимыми переменными уровня отношения."
      ]
    },
    {
      "cell_type": "code",
      "metadata": {
        "id": "luwrVenT5E1-",
        "colab_type": "code",
        "outputId": "5910d3e2-3c27-494c-bdec-117dc1ecee45",
        "colab": {
          "base_uri": "https://localhost:8080/",
          "height": 35
        }
      },
      "source": [
        "\n",
        "from sklearn.linear_model import LogisticRegression\n",
        "\n",
        "logreg = LogisticRegression()\n",
        "logreg.fit(x_train, y_train)\n",
        "y_pred = logreg.predict(x_val)\n",
        "acc_logreg = round(accuracy_score(y_pred, y_val) * 100, 2)\n",
        "print(acc_logreg)"
      ],
      "execution_count": 34,
      "outputs": [
        {
          "output_type": "stream",
          "text": [
            "79.19\n"
          ],
          "name": "stdout"
        }
      ]
    },
    {
      "cell_type": "markdown",
      "metadata": {
        "id": "WKq1a2rsNfDO",
        "colab_type": "text"
      },
      "source": [
        "  Support Vector Machines выводит оптимальную гиперплоскость, которая классифицирует новые примеры."
      ]
    },
    {
      "cell_type": "code",
      "metadata": {
        "id": "WDgglCro5IEL",
        "colab_type": "code",
        "outputId": "dda69327-f614-43c2-f83e-133002ce9f1f",
        "colab": {
          "base_uri": "https://localhost:8080/",
          "height": 35
        }
      },
      "source": [
        "from sklearn.svm import SVC\n",
        "\n",
        "svc = SVC()\n",
        "svc.fit(x_train, y_train)\n",
        "y_pred = svc.predict(x_val)\n",
        "acc_svc = round(accuracy_score(y_pred, y_val) * 100, 2)\n",
        "print(acc_svc)"
      ],
      "execution_count": 35,
      "outputs": [
        {
          "output_type": "stream",
          "text": [
            "82.74\n"
          ],
          "name": "stdout"
        }
      ]
    },
    {
      "cell_type": "markdown",
      "metadata": {
        "id": "I1ziy7skNfKK",
        "colab_type": "text"
      },
      "source": [
        "Линейный SVC масштабируется лучше предыдущего"
      ]
    },
    {
      "cell_type": "code",
      "metadata": {
        "id": "9GJOZTNC5PLs",
        "colab_type": "code",
        "outputId": "b84e2a11-f7b8-4630-82f7-666d163c39e2",
        "colab": {
          "base_uri": "https://localhost:8080/",
          "height": 35
        }
      },
      "source": [
        "\n",
        "from sklearn.svm import LinearSVC\n",
        "\n",
        "linear_svc = LinearSVC()\n",
        "linear_svc.fit(x_train, y_train)\n",
        "y_pred = linear_svc.predict(x_val)\n",
        "acc_linear_svc = round(accuracy_score(y_pred, y_val) * 100, 2)\n",
        "print(acc_linear_svc)"
      ],
      "execution_count": 36,
      "outputs": [
        {
          "output_type": "stream",
          "text": [
            "78.17\n"
          ],
          "name": "stdout"
        }
      ]
    },
    {
      "cell_type": "markdown",
      "metadata": {
        "id": "zzPmQhFKOB3T",
        "colab_type": "text"
      },
      "source": [
        " Perceptron-линейный классификатор (двоичный). Кроме того, он используется в обучении под наблюдением. Это помогает классифицировать заданные входные данные."
      ]
    },
    {
      "cell_type": "code",
      "metadata": {
        "id": "gJs8W2vl5RjG",
        "colab_type": "code",
        "outputId": "21e99e1a-ca07-4eb3-8e4c-9dca5668f986",
        "colab": {
          "base_uri": "https://localhost:8080/",
          "height": 35
        }
      },
      "source": [
        "\n",
        "from sklearn.linear_model import Perceptron\n",
        "\n",
        "perceptron = Perceptron()\n",
        "perceptron.fit(x_train, y_train)\n",
        "y_pred = perceptron.predict(x_val)\n",
        "acc_perceptron = round(accuracy_score(y_pred, y_val) * 100, 2)\n",
        "print(acc_perceptron)"
      ],
      "execution_count": 37,
      "outputs": [
        {
          "output_type": "stream",
          "text": [
            "78.68\n"
          ],
          "name": "stdout"
        }
      ]
    },
    {
      "cell_type": "markdown",
      "metadata": {
        "id": "SeI6C8RHOWOu",
        "colab_type": "text"
      },
      "source": [
        "Дерево решений все возможные результаты"
      ]
    },
    {
      "cell_type": "code",
      "metadata": {
        "id": "IcUocxSr5UAd",
        "colab_type": "code",
        "outputId": "4020bcd3-ca57-428f-8626-cb02b516ead7",
        "colab": {
          "base_uri": "https://localhost:8080/",
          "height": 35
        }
      },
      "source": [
        "\n",
        "from sklearn.tree import DecisionTreeClassifier\n",
        "\n",
        "decisiontree = DecisionTreeClassifier()\n",
        "decisiontree.fit(x_train, y_train)\n",
        "y_pred = decisiontree.predict(x_val)\n",
        "acc_decisiontree = round(accuracy_score(y_pred, y_val) * 100, 2)\n",
        "print(acc_decisiontree)"
      ],
      "execution_count": 38,
      "outputs": [
        {
          "output_type": "stream",
          "text": [
            "81.73\n"
          ],
          "name": "stdout"
        }
      ]
    },
    {
      "cell_type": "markdown",
      "metadata": {
        "id": "3bvVy0ClOeB9",
        "colab_type": "text"
      },
      "source": [
        "Случайный лес является методом обучения для регрессии\n",
        "\n",
        "\n",
        "---\n",
        "\n"
      ]
    },
    {
      "cell_type": "code",
      "metadata": {
        "id": "AV9xBfA45WXR",
        "colab_type": "code",
        "outputId": "ce343052-93da-49b9-cd81-297ee5a479c7",
        "colab": {
          "base_uri": "https://localhost:8080/",
          "height": 35
        }
      },
      "source": [
        "\n",
        "from sklearn.ensemble import RandomForestClassifier\n",
        "\n",
        "randomforest = RandomForestClassifier()\n",
        "randomforest.fit(x_train, y_train)\n",
        "y_pred = randomforest.predict(x_val)\n",
        "acc_randomforest = round(accuracy_score(y_pred, y_val) * 100, 2)\n",
        "print(acc_randomforest)"
      ],
      "execution_count": 39,
      "outputs": [
        {
          "output_type": "stream",
          "text": [
            "83.25\n"
          ],
          "name": "stdout"
        }
      ]
    },
    {
      "cell_type": "markdown",
      "metadata": {
        "id": "62Vm5RWUOyme",
        "colab_type": "text"
      },
      "source": [
        " KNN or k-Nearest Neighbors алгоритм-это простой, контролируемый алгоритм машинного обучения, который может использоваться для решения задач классификации и регрессии."
      ]
    },
    {
      "cell_type": "code",
      "metadata": {
        "id": "FELVDB4W5Zsx",
        "colab_type": "code",
        "outputId": "9edb311c-4d43-442a-f7e7-59eb4dd29287",
        "colab": {
          "base_uri": "https://localhost:8080/",
          "height": 35
        }
      },
      "source": [
        "from sklearn.neighbors import KNeighborsClassifier\n",
        "\n",
        "knn = KNeighborsClassifier()\n",
        "knn.fit(x_train, y_train)\n",
        "y_pred = knn.predict(x_val)\n",
        "acc_knn = round(accuracy_score(y_pred, y_val) * 100, 2)\n",
        "print(acc_knn)"
      ],
      "execution_count": 40,
      "outputs": [
        {
          "output_type": "stream",
          "text": [
            "77.66\n"
          ],
          "name": "stdout"
        }
      ]
    },
    {
      "cell_type": "markdown",
      "metadata": {
        "id": "76Y04j0NO_G0",
        "colab_type": "text"
      },
      "source": [
        "Stochastic Gradient Descent  вычисляет градиент и обновляет нашу матрицу веса W на небольших партиях обучающих данных, а не на всем обучающем наборе."
      ]
    },
    {
      "cell_type": "code",
      "metadata": {
        "id": "0e-M4-Sr5cFF",
        "colab_type": "code",
        "outputId": "82bac6a0-b8e8-4be9-dd82-230770f8dcf8",
        "colab": {
          "base_uri": "https://localhost:8080/",
          "height": 35
        }
      },
      "source": [
        "\n",
        "from sklearn.linear_model import SGDClassifier\n",
        "\n",
        "sgd = SGDClassifier()\n",
        "sgd.fit(x_train, y_train)\n",
        "y_pred = sgd.predict(x_val)\n",
        "acc_sgd = round(accuracy_score(y_pred, y_val) * 100, 2)\n",
        "print(acc_sgd)"
      ],
      "execution_count": 41,
      "outputs": [
        {
          "output_type": "stream",
          "text": [
            "69.54\n"
          ],
          "name": "stdout"
        }
      ]
    },
    {
      "cell_type": "markdown",
      "metadata": {
        "id": "fyoEhfD5PQDQ",
        "colab_type": "text"
      },
      "source": [
        "Gradient Boosting Classifier позволяет оптимизировать произвольные дифференцируемые функции потерь."
      ]
    },
    {
      "cell_type": "code",
      "metadata": {
        "id": "XPYn7B8K5fV4",
        "colab_type": "code",
        "outputId": "b5e209ab-beed-4c2e-ba69-fb908e1a57af",
        "colab": {
          "base_uri": "https://localhost:8080/",
          "height": 35
        }
      },
      "source": [
        "\n",
        "from sklearn.ensemble import GradientBoostingClassifier\n",
        "\n",
        "gbk = GradientBoostingClassifier()\n",
        "gbk.fit(x_train, y_train)\n",
        "y_pred = gbk.predict(x_val)\n",
        "acc_gbk = round(accuracy_score(y_pred, y_val) * 100, 2)\n",
        "print(acc_gbk)"
      ],
      "execution_count": 42,
      "outputs": [
        {
          "output_type": "stream",
          "text": [
            "84.77\n"
          ],
          "name": "stdout"
        }
      ]
    },
    {
      "cell_type": "markdown",
      "metadata": {
        "id": "18S5uPRRPjmf",
        "colab_type": "text"
      },
      "source": [
        "Сравниваем точность каждой модели"
      ]
    },
    {
      "cell_type": "code",
      "metadata": {
        "id": "093RTzdt5hQo",
        "colab_type": "code",
        "outputId": "989c547d-66e4-46c2-adc9-6c1e798953a5",
        "colab": {
          "base_uri": "https://localhost:8080/",
          "height": 355
        }
      },
      "source": [
        "models = pd.DataFrame({\n",
        "    'Model': ['Support Vector Machines', 'KNN', 'Logistic Regression', \n",
        "              'Random Forest', 'Naive Bayes', 'Perceptron', 'Linear SVC', \n",
        "              'Decision Tree', 'Stochastic Gradient Descent', 'Gradient Boosting Classifier'],\n",
        "    'Score': [acc_svc, acc_knn, acc_logreg, \n",
        "              acc_randomforest, acc_gaussian, acc_perceptron,acc_linear_svc, acc_decisiontree,\n",
        "              acc_sgd, acc_gbk]})\n",
        "models.sort_values(by='Score', ascending=False)"
      ],
      "execution_count": 43,
      "outputs": [
        {
          "output_type": "execute_result",
          "data": {
            "text/html": [
              "<div>\n",
              "<style scoped>\n",
              "    .dataframe tbody tr th:only-of-type {\n",
              "        vertical-align: middle;\n",
              "    }\n",
              "\n",
              "    .dataframe tbody tr th {\n",
              "        vertical-align: top;\n",
              "    }\n",
              "\n",
              "    .dataframe thead th {\n",
              "        text-align: right;\n",
              "    }\n",
              "</style>\n",
              "<table border=\"1\" class=\"dataframe\">\n",
              "  <thead>\n",
              "    <tr style=\"text-align: right;\">\n",
              "      <th></th>\n",
              "      <th>Model</th>\n",
              "      <th>Score</th>\n",
              "    </tr>\n",
              "  </thead>\n",
              "  <tbody>\n",
              "    <tr>\n",
              "      <th>9</th>\n",
              "      <td>Gradient Boosting Classifier</td>\n",
              "      <td>84.77</td>\n",
              "    </tr>\n",
              "    <tr>\n",
              "      <th>3</th>\n",
              "      <td>Random Forest</td>\n",
              "      <td>83.25</td>\n",
              "    </tr>\n",
              "    <tr>\n",
              "      <th>0</th>\n",
              "      <td>Support Vector Machines</td>\n",
              "      <td>82.74</td>\n",
              "    </tr>\n",
              "    <tr>\n",
              "      <th>7</th>\n",
              "      <td>Decision Tree</td>\n",
              "      <td>81.73</td>\n",
              "    </tr>\n",
              "    <tr>\n",
              "      <th>2</th>\n",
              "      <td>Logistic Regression</td>\n",
              "      <td>79.19</td>\n",
              "    </tr>\n",
              "    <tr>\n",
              "      <th>4</th>\n",
              "      <td>Naive Bayes</td>\n",
              "      <td>78.68</td>\n",
              "    </tr>\n",
              "    <tr>\n",
              "      <th>5</th>\n",
              "      <td>Perceptron</td>\n",
              "      <td>78.68</td>\n",
              "    </tr>\n",
              "    <tr>\n",
              "      <th>6</th>\n",
              "      <td>Linear SVC</td>\n",
              "      <td>78.17</td>\n",
              "    </tr>\n",
              "    <tr>\n",
              "      <th>1</th>\n",
              "      <td>KNN</td>\n",
              "      <td>77.66</td>\n",
              "    </tr>\n",
              "    <tr>\n",
              "      <th>8</th>\n",
              "      <td>Stochastic Gradient Descent</td>\n",
              "      <td>69.54</td>\n",
              "    </tr>\n",
              "  </tbody>\n",
              "</table>\n",
              "</div>"
            ],
            "text/plain": [
              "                          Model  Score\n",
              "9  Gradient Boosting Classifier  84.77\n",
              "3                 Random Forest  83.25\n",
              "0       Support Vector Machines  82.74\n",
              "7                 Decision Tree  81.73\n",
              "2           Logistic Regression  79.19\n",
              "4                   Naive Bayes  78.68\n",
              "5                    Perceptron  78.68\n",
              "6                    Linear SVC  78.17\n",
              "1                           KNN  77.66\n",
              "8   Stochastic Gradient Descent  69.54"
            ]
          },
          "metadata": {
            "tags": []
          },
          "execution_count": 43
        }
      ]
    }
  ]
}